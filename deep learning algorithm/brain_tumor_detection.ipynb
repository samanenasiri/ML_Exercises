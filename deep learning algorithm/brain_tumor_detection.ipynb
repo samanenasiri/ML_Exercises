{
  "nbformat": 4,
  "nbformat_minor": 0,
  "metadata": {
    "colab": {
      "name": " tumor.ipynb",
      "provenance": [],
      "collapsed_sections": []
    },
    "kernelspec": {
      "name": "python3",
      "display_name": "Python 3"
    },
    "language_info": {
      "name": "python"
    },
    "gpuClass": "standard"
  },
  "cells": [
    {
      "cell_type": "code",
      "source": [
        "from google.colab import drive\n",
        "drive.mount('/content/drive')"
      ],
      "metadata": {
        "colab": {
          "base_uri": "https://localhost:8080/"
        },
        "id": "jx2OyYDzl3Zb",
        "outputId": "91180c97-21bc-4ed5-aaf8-a53323e20736"
      },
      "execution_count": null,
      "outputs": [
        {
          "output_type": "stream",
          "name": "stdout",
          "text": [
            "Mounted at /content/drive\n"
          ]
        }
      ]
    },
    {
      "cell_type": "code",
      "source": [
        "import cv2\n",
        "import glob\n",
        "import matplotlib.pyplot as plt\n",
        "import imutils\n",
        "import numpy as np\n",
        "from sklearn.model_selection import train_test_split\n",
        "from sklearn.svm import SVC\n",
        "from sklearn.preprocessing import StandardScaler\n",
        "from sklearn.metrics import accuracy_score, classification_report\n",
        "from sklearn.decomposition import PCA, KernelPCA\n",
        "from sklearn.ensemble import RandomForestClassifier"
      ],
      "metadata": {
        "id": "5JKzWEfugckn"
      },
      "execution_count": null,
      "outputs": []
    },
    {
      "cell_type": "code",
      "source": [
        "ext = ['jpg', 'JPG', 'pnp', 'jpeg']\n",
        "\n",
        "\n",
        "def get_files(path_, ext):\n",
        "    temp_paths = []\n",
        "    [temp_paths.extend(glob.glob(path_ + '*.' + e)) for e in ext]\n",
        "    return temp_paths\n",
        "\n",
        "files_yes = get_files('/content/drive/MyDrive/yes/', ext)\n",
        "files_no = get_files('/content/drive/MyDrive/no/', ext)\n",
        "\n",
        "\n",
        "\n"
      ],
      "metadata": {
        "id": "rCk1d1tdgcxl"
      },
      "execution_count": null,
      "outputs": []
    },
    {
      "cell_type": "code",
      "source": [
        "def read_files(files):\n",
        "    temp_images = []\n",
        "    for file in files:\n",
        "        temp_img = cv2.imread(file)\n",
        "        if temp_img is not None:\n",
        "            temp_images.append(temp_img)  \n",
        "    return temp_images\n",
        "\n",
        "\n",
        "tumor_imgs_yes = read_files(files_yes)\n",
        "tumor_imgs_no = read_files(files_no)"
      ],
      "metadata": {
        "id": "KySvg42_iNxx"
      },
      "execution_count": null,
      "outputs": []
    },
    {
      "cell_type": "code",
      "source": [
        "len(tumor_imgs_yes)\n"
      ],
      "metadata": {
        "colab": {
          "base_uri": "https://localhost:8080/"
        },
        "id": "FLVwVh7qp7H2",
        "outputId": "75c85929-da6c-4458-d3e0-1f057294f3b9"
      },
      "execution_count": null,
      "outputs": [
        {
          "output_type": "execute_result",
          "data": {
            "text/plain": [
              "150"
            ]
          },
          "metadata": {},
          "execution_count": 9
        }
      ]
    },
    {
      "cell_type": "code",
      "source": [
        "\n",
        "def crop_brain(image):\n",
        "    \n",
        "    # Convert the image to grayscale, and blur it slightly\n",
        "    gray = cv2.cvtColor(image, cv2.COLOR_BGR2GRAY)\n",
        "    gray = cv2.GaussianBlur(gray, (5, 5), 0)\n",
        "    \n",
        "    thresh = cv2.threshold(gray, 45, 255, cv2.THRESH_BINARY)[1]\n",
        "    thresh = cv2.erode(thresh, None, iterations=2)\n",
        "    thresh = cv2.dilate(thresh, None, iterations=2)\n",
        "\n",
        "    # Find contours in thresholded image, then grab the largest one\n",
        "    cnts = cv2.findContours(thresh.copy(), cv2.RETR_EXTERNAL, cv2.CHAIN_APPROX_SIMPLE)\n",
        "    cnts = imutils.grab_contours(cnts)\n",
        "    c = max(cnts, key=cv2.contourArea)\n",
        "    # extreme points\n",
        "    extLeft = tuple(c[c[:, :, 0].argmin()][0])\n",
        "    extRight = tuple(c[c[:, :, 0].argmax()][0])\n",
        "    extTop = tuple(c[c[:, :, 1].argmin()][0])\n",
        "    extBot = tuple(c[c[:, :, 1].argmax()][0])\n",
        "    \n",
        "    # crop new image out of the original image using the four extreme points (left, right, top, bottom)\n",
        "    new_image = image[extTop[1]:extBot[1], extLeft[0]:extRight[0]]            \n",
        "    \n",
        "    return new_image\n",
        "\n",
        "\n"
      ],
      "metadata": {
        "id": "27qoJalIiOQQ"
      },
      "execution_count": null,
      "outputs": []
    },
    {
      "cell_type": "code",
      "source": [
        "tumor_imgs_croped_yes = []\n",
        "tumor_imgs_croped_no = []\n",
        "\n",
        "\n",
        "\n",
        "for image in tumor_imgs_yes:\n",
        "    x = crop_brain(image)\n",
        "    x_resize = cv2.resize(x, (128, 128))\n",
        "    gray = cv2.cvtColor(x_resize, cv2.COLOR_BGR2GRAY)\n",
        "    tumor_imgs_croped_yes.append(gray)\n",
        "\n",
        "\n",
        "for image in tumor_imgs_no:\n",
        "    x = crop_brain(image)\n",
        "\n",
        "    x_resize = cv2.resize(x, (128, 128))\n",
        "    gray = cv2.cvtColor(x_resize, cv2.COLOR_BGR2GRAY)\n",
        "    tumor_imgs_croped_no.append(gray)\n",
        "\n",
        "\n",
        "y_yes = np.ones(len(tumor_imgs_croped_yes), dtype=\"int8\")\n",
        "y_no = np.zeros(len(tumor_imgs_croped_no), dtype=\"int8\")\n",
        "\n",
        "\n",
        "X = np.concatenate((tumor_imgs_croped_yes, tumor_imgs_croped_no), axis=0)\n",
        "y = np.concatenate((y_yes, y_no), axis=0)\n",
        "\n",
        "d1, d2, d3 = X.shape\n"
      ],
      "metadata": {
        "id": "7sB0bbs-xfbd"
      },
      "execution_count": null,
      "outputs": []
    },
    {
      "cell_type": "code",
      "source": [
        "tumor_imgs_nocroped_yes = []\n",
        "tumor_imgs_nocroped_no = []\n",
        "\n",
        "\n",
        "for x in tumor_imgs_yes:\n",
        "    x_resize = cv2.resize(x, (128, 128))\n",
        "    gray = cv2.cvtColor(x_resize, cv2.COLOR_BGR2GRAY)\n",
        "    tumor_imgs_nocroped_yes.append(gray)\n",
        "\n",
        "\n",
        "for x in tumor_imgs_no:\n",
        "    x_resize = cv2.resize(x, (128, 128))\n",
        "    gray = cv2.cvtColor(x_resize, cv2.COLOR_BGR2GRAY)\n",
        "    tumor_imgs_nocroped_no.append(gray)\n",
        "\n",
        "\n",
        "y_nocrop_yes = np.ones(len(tumor_imgs_nocroped_yes), dtype=\"int8\")\n",
        "y_nocrop_no = np.zeros(len(tumor_imgs_nocroped_no), dtype=\"int8\")\n",
        "\n",
        "\n",
        "nocrop_X = np.concatenate((tumor_imgs_nocroped_yes, tumor_imgs_nocroped_no), axis=0)\n",
        "nocrop_y = np.concatenate((y_nocrop_yes, y_nocrop_no), axis=0)\n",
        "\n",
        "d1, d2, d3 = nocrop_X.shape"
      ],
      "metadata": {
        "id": "pKKNpGniz_bY"
      },
      "execution_count": null,
      "outputs": []
    },
    {
      "cell_type": "code",
      "source": [
        "X.shape"
      ],
      "metadata": {
        "colab": {
          "base_uri": "https://localhost:8080/"
        },
        "id": "gXso3q9dqeMK",
        "outputId": "11af2186-5de0-406d-c15c-844148c4840e"
      },
      "execution_count": null,
      "outputs": [
        {
          "output_type": "execute_result",
          "data": {
            "text/plain": [
              "(245, 128, 128)"
            ]
          },
          "metadata": {},
          "execution_count": 13
        }
      ]
    },
    {
      "cell_type": "code",
      "source": [
        "nocrop_X.shape"
      ],
      "metadata": {
        "colab": {
          "base_uri": "https://localhost:8080/"
        },
        "id": "QJlb1mzu00Er",
        "outputId": "ac2406cf-1b54-47c9-a0ad-5bbaf359dd17"
      },
      "execution_count": null,
      "outputs": [
        {
          "output_type": "execute_result",
          "data": {
            "text/plain": [
              "(245, 128, 128)"
            ]
          },
          "metadata": {},
          "execution_count": 14
        }
      ]
    },
    {
      "cell_type": "code",
      "source": [
        "X = X.reshape((d1, d2 * d3))\n",
        "X.shape"
      ],
      "metadata": {
        "colab": {
          "base_uri": "https://localhost:8080/"
        },
        "id": "3mxNXZWCqvVT",
        "outputId": "c9fea171-ad08-4d44-d25e-a8cdaa62bf80"
      },
      "execution_count": null,
      "outputs": [
        {
          "output_type": "execute_result",
          "data": {
            "text/plain": [
              "(245, 16384)"
            ]
          },
          "metadata": {},
          "execution_count": 90
        }
      ]
    },
    {
      "cell_type": "code",
      "source": [
        "X_train, X_test, y_train, y_test = train_test_split(X, y, test_size=0.1, random_state=10)"
      ],
      "metadata": {
        "id": "Cu9iqp55qcxp"
      },
      "execution_count": null,
      "outputs": []
    },
    {
      "cell_type": "code",
      "source": [
        "nocrop_X_train, nocrop_X_test, nocrop_y_train, nocrop_y_test = train_test_split(nocrop_X, nocrop_y, test_size=0.1, random_state=5)"
      ],
      "metadata": {
        "id": "HtYmyf7I1BVS"
      },
      "execution_count": null,
      "outputs": []
    },
    {
      "cell_type": "code",
      "source": [
        "X_train.shape"
      ],
      "metadata": {
        "colab": {
          "base_uri": "https://localhost:8080/"
        },
        "id": "c8JFf8x-rS55",
        "outputId": "bf444b3f-6c35-419f-e09a-c44a769b9bbc"
      },
      "execution_count": null,
      "outputs": [
        {
          "output_type": "execute_result",
          "data": {
            "text/plain": [
              "(220, 128, 128)"
            ]
          },
          "metadata": {},
          "execution_count": 17
        }
      ]
    },
    {
      "cell_type": "code",
      "source": [
        "nocrop_X_train.shape"
      ],
      "metadata": {
        "colab": {
          "base_uri": "https://localhost:8080/"
        },
        "id": "7zd0qBb81Rd7",
        "outputId": "29d0170f-244c-46f5-a930-485da3ddf896"
      },
      "execution_count": null,
      "outputs": [
        {
          "output_type": "execute_result",
          "data": {
            "text/plain": [
              "(220, 128, 128)"
            ]
          },
          "metadata": {},
          "execution_count": 18
        }
      ]
    },
    {
      "cell_type": "code",
      "source": [
        "# scale data before train model\n",
        "scaler_ = StandardScaler()\n",
        "X_train_sc = scaler_.fit_transform(X_train)\n",
        "X_test_sc = scaler_.transform(X_test)\n",
        "\n",
        "\n",
        "# random forest without pca\n",
        "rf_model = RandomForestClassifier()\n",
        "rf_model.fit(X_train_sc, y_train)\n",
        "y_predict_rf = rf_model.predict(X_test_sc)\n",
        "\n",
        "\n",
        "# SVC without pca\n",
        "svc_model = SVC(kernel=\"linear\")\n",
        "svc_model.fit(X_train_sc, y_train)\n",
        "y_predict_svc = svc_model.predict(X_test_sc)\n",
        "\n",
        "# PCA\n",
        "data_pca = PCA(n_components=12)\n",
        "pca_components = data_pca.fit(X_train_sc)\n",
        "X_train_pca = pca_components.fit_transform(X_train_sc)\n",
        "X_test_pca = pca_components.transform(X_test_sc)\n",
        "\n",
        "# KernelPCA\n",
        "data_kpca = KernelPCA()\n",
        "kpca_components = data_kpca.fit(X_train_sc)\n",
        "X_train_kpca = kpca_components.fit_transform(X_train_sc)\n",
        "X_test_kpca = kpca_components.transform(X_test_sc)\n",
        "\n",
        "\n",
        "# RandomForest With PCA\n",
        "rf_model_pca = RandomForestClassifier()\n",
        "rf_model_pca.fit(X_train_pca, y_train)\n",
        "y_predict_rf_pca = rf_model_pca.predict(X_test_pca)\n",
        "\n",
        "# SVC With PCA\n",
        "svc_model_pca = SVC(kernel=\"linear\")\n",
        "svc_model.fit(X_train_pca, y_train)\n",
        "y_predict_pca = svc_model.predict(X_test_pca)\n",
        "\n",
        "\n",
        "# RandomForest With KernelPCA\n",
        "rf_model_kpca = RandomForestClassifier()\n",
        "rf_model_kpca.fit(X_train_kpca, y_train)\n",
        "y_predict_rf_kpca = rf_model_kpca.predict(X_test_kpca)\n",
        "\n",
        "# SVC With KernelPCA\n",
        "svc_model_kpca = SVC(kernel=\"linear\")\n",
        "svc_model.fit(X_train_kpca, y_train)\n",
        "y_predict_kpca = svc_model.predict(X_test_kpca)\n",
        "\n",
        "\n",
        "print(\"SVC without PCA: \", accuracy_score(y_test, y_predict_svc))\n",
        "print(\"SVC with PCA: \", accuracy_score(y_test, y_predict_pca))\n",
        "\n",
        "print(\"SVC without PCA:\")\n",
        "print(classification_report(y_test, y_predict_svc))\n",
        "print(\"SVC with PCA:\")\n",
        "print(classification_report(y_test, y_predict_pca))\n",
        "\n",
        "\n",
        "print(\"RandomForest without PCA:\")\n",
        "print(classification_report(y_test, y_predict_rf))\n",
        "\n",
        "print(\"RandomForest with PCA:\")\n",
        "print(classification_report(y_test, y_predict_rf_pca))\n",
        "\n",
        "\n",
        "print(\"RandomForest without KPCA:\")\n",
        "print(classification_report(y_test, y_predict_rf_kpca))\n",
        "\n",
        "print(\"SVC with KPCA:\")\n",
        "print(classification_report(y_test, y_predict_kpca))"
      ],
      "metadata": {
        "colab": {
          "base_uri": "https://localhost:8080/"
        },
        "id": "Pg2-8na_rMy9",
        "outputId": "416b76e5-0bc7-490b-9b2e-3a8d0a15090c"
      },
      "execution_count": null,
      "outputs": [
        {
          "output_type": "stream",
          "name": "stdout",
          "text": [
            "SVC without PCA:  0.6\n",
            "SVC with PCA:  0.52\n",
            "SVC without PCA:\n",
            "              precision    recall  f1-score   support\n",
            "\n",
            "           0       0.44      0.44      0.44         9\n",
            "           1       0.69      0.69      0.69        16\n",
            "\n",
            "    accuracy                           0.60        25\n",
            "   macro avg       0.57      0.57      0.57        25\n",
            "weighted avg       0.60      0.60      0.60        25\n",
            "\n",
            "SVC with PCA:\n",
            "              precision    recall  f1-score   support\n",
            "\n",
            "           0       0.33      0.33      0.33         9\n",
            "           1       0.62      0.62      0.62        16\n",
            "\n",
            "    accuracy                           0.52        25\n",
            "   macro avg       0.48      0.48      0.48        25\n",
            "weighted avg       0.52      0.52      0.52        25\n",
            "\n",
            "RandomForest without PCA:\n",
            "              precision    recall  f1-score   support\n",
            "\n",
            "           0       0.80      0.44      0.57         9\n",
            "           1       0.75      0.94      0.83        16\n",
            "\n",
            "    accuracy                           0.76        25\n",
            "   macro avg       0.78      0.69      0.70        25\n",
            "weighted avg       0.77      0.76      0.74        25\n",
            "\n",
            "RandomForest with PCA:\n",
            "              precision    recall  f1-score   support\n",
            "\n",
            "           0       0.71      0.56      0.63         9\n",
            "           1       0.78      0.88      0.82        16\n",
            "\n",
            "    accuracy                           0.76        25\n",
            "   macro avg       0.75      0.72      0.72        25\n",
            "weighted avg       0.75      0.76      0.75        25\n",
            "\n",
            "RandomForest without KPCA:\n",
            "              precision    recall  f1-score   support\n",
            "\n",
            "           0       0.80      0.44      0.57         9\n",
            "           1       0.75      0.94      0.83        16\n",
            "\n",
            "    accuracy                           0.76        25\n",
            "   macro avg       0.78      0.69      0.70        25\n",
            "weighted avg       0.77      0.76      0.74        25\n",
            "\n",
            "SVC with KPCA:\n",
            "              precision    recall  f1-score   support\n",
            "\n",
            "           0       0.44      0.44      0.44         9\n",
            "           1       0.69      0.69      0.69        16\n",
            "\n",
            "    accuracy                           0.60        25\n",
            "   macro avg       0.57      0.57      0.57        25\n",
            "weighted avg       0.60      0.60      0.60        25\n",
            "\n"
          ]
        }
      ]
    },
    {
      "cell_type": "code",
      "source": [
        "\"\"\"\n",
        "CNN with crop image \n",
        "\"\"\""
      ],
      "metadata": {
        "id": "3DXrGMeayt6s"
      },
      "execution_count": null,
      "outputs": []
    },
    {
      "cell_type": "code",
      "source": [
        "import tensorflow\n",
        "from tensorflow import keras\n",
        "from functools import partial\n",
        "\n",
        "DefaultConv2D = partial(keras.layers.Conv2D,\n",
        "                        kernel_size=3, activation='relu', padding=\"SAME\")\n",
        "\n",
        "model = keras.models.Sequential([\n",
        "    DefaultConv2D(filters=32, input_shape=[128, 128, 1]),\n",
        "    keras.layers.MaxPooling2D(pool_size=2),\n",
        "    DefaultConv2D(filters=64),\n",
        "    keras.layers.MaxPooling2D(pool_size=2),\n",
        "    DefaultConv2D(filters=128),\n",
        "    keras.layers.MaxPooling2D(pool_size=2),\n",
        "    keras.layers.Flatten(),\n",
        "    keras.layers.Dense(units=100, activation='relu'),\n",
        "    keras.layers.Dropout(0.5),\n",
        "    keras.layers.Dense(units=1, activation='sigmoid'),])"
      ],
      "metadata": {
        "id": "CHAL15ayrjte"
      },
      "execution_count": null,
      "outputs": []
    },
    {
      "cell_type": "code",
      "source": [
        "model.compile(loss=\"binary_crossentropy\", optimizer=\"adam\", metrics=[\"accuracy\"])\n",
        "history = model.fit(X_train, y_train, epochs=20,batch_size=50,validation_split=0.15)"
      ],
      "metadata": {
        "colab": {
          "base_uri": "https://localhost:8080/"
        },
        "id": "-ECERQlFuEgl",
        "outputId": "c1c319fe-8662-4a9a-fdc0-187820938d48"
      },
      "execution_count": null,
      "outputs": [
        {
          "output_type": "stream",
          "name": "stdout",
          "text": [
            "Epoch 1/20\n",
            "4/4 [==============================] - 7s 2s/step - loss: 40.3821 - accuracy: 0.5668 - val_loss: 2.2883 - val_accuracy: 0.5152\n",
            "Epoch 2/20\n",
            "4/4 [==============================] - 6s 1s/step - loss: 7.2207 - accuracy: 0.4492 - val_loss: 0.9313 - val_accuracy: 0.6970\n",
            "Epoch 3/20\n",
            "4/4 [==============================] - 6s 1s/step - loss: 1.0616 - accuracy: 0.6096 - val_loss: 0.5289 - val_accuracy: 0.6970\n",
            "Epoch 4/20\n",
            "4/4 [==============================] - 6s 1s/step - loss: 0.6274 - accuracy: 0.6738 - val_loss: 0.5785 - val_accuracy: 0.7576\n",
            "Epoch 5/20\n",
            "4/4 [==============================] - 6s 1s/step - loss: 0.6187 - accuracy: 0.7112 - val_loss: 0.6043 - val_accuracy: 0.6970\n",
            "Epoch 6/20\n",
            "4/4 [==============================] - 6s 1s/step - loss: 0.5887 - accuracy: 0.7487 - val_loss: 0.5602 - val_accuracy: 0.6364\n",
            "Epoch 7/20\n",
            "4/4 [==============================] - 6s 1s/step - loss: 0.5164 - accuracy: 0.7433 - val_loss: 0.5825 - val_accuracy: 0.6970\n",
            "Epoch 8/20\n",
            "4/4 [==============================] - 6s 1s/step - loss: 0.4560 - accuracy: 0.7594 - val_loss: 0.5140 - val_accuracy: 0.6667\n",
            "Epoch 9/20\n",
            "4/4 [==============================] - 6s 1s/step - loss: 0.3599 - accuracy: 0.8128 - val_loss: 0.5370 - val_accuracy: 0.8182\n",
            "Epoch 10/20\n",
            "4/4 [==============================] - 6s 2s/step - loss: 0.2465 - accuracy: 0.9305 - val_loss: 0.6422 - val_accuracy: 0.7273\n",
            "Epoch 11/20\n",
            "4/4 [==============================] - 8s 2s/step - loss: 0.2290 - accuracy: 0.9091 - val_loss: 0.4730 - val_accuracy: 0.7576\n",
            "Epoch 12/20\n",
            "4/4 [==============================] - 6s 1s/step - loss: 0.1965 - accuracy: 0.9251 - val_loss: 0.5877 - val_accuracy: 0.8485\n",
            "Epoch 13/20\n",
            "4/4 [==============================] - 6s 2s/step - loss: 0.1666 - accuracy: 0.9251 - val_loss: 0.7070 - val_accuracy: 0.7879\n",
            "Epoch 14/20\n",
            "4/4 [==============================] - 6s 1s/step - loss: 0.1571 - accuracy: 0.9305 - val_loss: 0.4957 - val_accuracy: 0.7576\n",
            "Epoch 15/20\n",
            "4/4 [==============================] - 6s 1s/step - loss: 0.1316 - accuracy: 0.9519 - val_loss: 0.5264 - val_accuracy: 0.8182\n",
            "Epoch 16/20\n",
            "4/4 [==============================] - 6s 1s/step - loss: 0.0797 - accuracy: 0.9893 - val_loss: 0.4491 - val_accuracy: 0.7576\n",
            "Epoch 17/20\n",
            "4/4 [==============================] - 6s 1s/step - loss: 0.0520 - accuracy: 0.9947 - val_loss: 0.5941 - val_accuracy: 0.7576\n",
            "Epoch 18/20\n",
            "4/4 [==============================] - 6s 1s/step - loss: 0.0793 - accuracy: 0.9733 - val_loss: 0.6483 - val_accuracy: 0.7879\n",
            "Epoch 19/20\n",
            "4/4 [==============================] - 6s 1s/step - loss: 0.0513 - accuracy: 0.9947 - val_loss: 0.4731 - val_accuracy: 0.7879\n",
            "Epoch 20/20\n",
            "4/4 [==============================] - 6s 1s/step - loss: 0.0299 - accuracy: 0.9947 - val_loss: 0.6051 - val_accuracy: 0.7879\n"
          ]
        }
      ]
    },
    {
      "cell_type": "code",
      "source": [
        "model.summary()"
      ],
      "metadata": {
        "id": "mrYf4GqfvN7A",
        "colab": {
          "base_uri": "https://localhost:8080/"
        },
        "outputId": "b7581f7d-c8b1-4273-8dd9-22b3d98d5bf7"
      },
      "execution_count": null,
      "outputs": [
        {
          "output_type": "stream",
          "name": "stdout",
          "text": [
            "Model: \"sequential_1\"\n",
            "_________________________________________________________________\n",
            " Layer (type)                Output Shape              Param #   \n",
            "=================================================================\n",
            " conv2d_3 (Conv2D)           (None, 128, 128, 32)      320       \n",
            "                                                                 \n",
            " max_pooling2d_3 (MaxPooling  (None, 64, 64, 32)       0         \n",
            " 2D)                                                             \n",
            "                                                                 \n",
            " conv2d_4 (Conv2D)           (None, 64, 64, 64)        18496     \n",
            "                                                                 \n",
            " max_pooling2d_4 (MaxPooling  (None, 32, 32, 64)       0         \n",
            " 2D)                                                             \n",
            "                                                                 \n",
            " conv2d_5 (Conv2D)           (None, 32, 32, 128)       73856     \n",
            "                                                                 \n",
            " max_pooling2d_5 (MaxPooling  (None, 16, 16, 128)      0         \n",
            " 2D)                                                             \n",
            "                                                                 \n",
            " flatten_1 (Flatten)         (None, 32768)             0         \n",
            "                                                                 \n",
            " dense_2 (Dense)             (None, 100)               3276900   \n",
            "                                                                 \n",
            " dropout_1 (Dropout)         (None, 100)               0         \n",
            "                                                                 \n",
            " dense_3 (Dense)             (None, 1)                 101       \n",
            "                                                                 \n",
            "=================================================================\n",
            "Total params: 3,369,673\n",
            "Trainable params: 3,369,673\n",
            "Non-trainable params: 0\n",
            "_________________________________________________________________\n"
          ]
        }
      ]
    },
    {
      "cell_type": "code",
      "source": [
        "model.evaluate(X_test,y_test)"
      ],
      "metadata": {
        "id": "IQu1k4tNv3q9",
        "colab": {
          "base_uri": "https://localhost:8080/"
        },
        "outputId": "964d0103-374a-4daf-cb07-0182fc841c6a"
      },
      "execution_count": null,
      "outputs": [
        {
          "output_type": "stream",
          "name": "stdout",
          "text": [
            "1/1 [==============================] - 0s 225ms/step - loss: 0.9875 - accuracy: 0.7200\n"
          ]
        },
        {
          "output_type": "execute_result",
          "data": {
            "text/plain": [
              "[0.9875375628471375, 0.7200000286102295]"
            ]
          },
          "metadata": {},
          "execution_count": 27
        }
      ]
    },
    {
      "cell_type": "code",
      "source": [
        "\n",
        "colors = plt.rcParams['axes.prop_cycle'].by_key()['color']\n",
        "def plot_accuracy(history, label, n):\n",
        "  # Use a log scale to show the wide range of values.\n",
        "    plt.semilogy(history.epoch,  history.history['accuracy'],  color=colors[n], label='Train '+label)\n",
        "    plt.semilogy(history.epoch,  history.history['val_accuracy'], color=colors[n], label='Val '+label, \n",
        "                       linestyle=\"--\")\n",
        "    plt.xlabel('Epoch')\n",
        "    plt.ylabel('accuracy')\n",
        "  \n",
        "    plt.legend()\n",
        "\n"
      ],
      "metadata": {
        "id": "dNFl8sLBvaZ-"
      },
      "execution_count": null,
      "outputs": []
    },
    {
      "cell_type": "code",
      "source": [
        "plot_accuracy(history, \"history\", 1)"
      ],
      "metadata": {
        "colab": {
          "base_uri": "https://localhost:8080/",
          "height": 279
        },
        "id": "e-R7mDoEwVEf",
        "outputId": "745b7acf-1f8e-4b00-d61b-faaef65d3a91"
      },
      "execution_count": null,
      "outputs": [
        {
          "output_type": "display_data",
          "data": {
            "text/plain": [
              "<Figure size 432x288 with 1 Axes>"
            ],
            "image/png": "[encoded data removed]"
          },
          "metadata": {
            "needs_background": "light"
          }
        }
      ]
    },
    {
      "cell_type": "code",
      "source": [
        "\"\"\"\n",
        "result:\n",
        "72% accuracy on test data set with croped images\n",
        "\"\"\""
      ],
      "metadata": {
        "id": "Zv6XH_E_y2Do"
      },
      "execution_count": null,
      "outputs": []
    },
    {
      "cell_type": "code",
      "source": [
        "\"\"\"\n",
        "CNN with out crop :\n",
        "\"\"\""
      ],
      "metadata": {
        "id": "TbVMgMf3xCbo"
      },
      "execution_count": null,
      "outputs": []
    },
    {
      "cell_type": "code",
      "source": [
        "model.compile(loss=\"binary_crossentropy\", optimizer=\"adam\", metrics=[\"accuracy\"])\n",
        "history_no2 = model.fit(nocrop_X_train, nocrop_y_train,batch_size=50, epochs=20,validation_split=0.15)"
      ],
      "metadata": {
        "id": "U5EIi0PAyRtW",
        "colab": {
          "base_uri": "https://localhost:8080/"
        },
        "outputId": "892f0d75-c686-4823-a13b-c0fe893b2d28"
      },
      "execution_count": null,
      "outputs": [
        {
          "output_type": "stream",
          "name": "stdout",
          "text": [
            "Epoch 1/20\n",
            "4/4 [==============================] - 8s 2s/step - loss: 0.5282 - accuracy: 0.7914 - val_loss: 0.4388 - val_accuracy: 0.8788\n",
            "Epoch 2/20\n",
            "4/4 [==============================] - 6s 1s/step - loss: 0.3742 - accuracy: 0.8396 - val_loss: 0.3633 - val_accuracy: 0.8788\n",
            "Epoch 3/20\n",
            "4/4 [==============================] - 6s 1s/step - loss: 0.3228 - accuracy: 0.8610 - val_loss: 0.5481 - val_accuracy: 0.8182\n",
            "Epoch 4/20\n",
            "4/4 [==============================] - 6s 1s/step - loss: 0.2978 - accuracy: 0.8877 - val_loss: 0.5468 - val_accuracy: 0.7273\n",
            "Epoch 5/20\n",
            "4/4 [==============================] - 6s 1s/step - loss: 0.2483 - accuracy: 0.9037 - val_loss: 0.5284 - val_accuracy: 0.8485\n",
            "Epoch 6/20\n",
            "4/4 [==============================] - 6s 1s/step - loss: 0.2020 - accuracy: 0.9091 - val_loss: 0.9037 - val_accuracy: 0.6970\n",
            "Epoch 7/20\n",
            "4/4 [==============================] - 8s 2s/step - loss: 0.2009 - accuracy: 0.9305 - val_loss: 0.5740 - val_accuracy: 0.9091\n",
            "Epoch 8/20\n",
            "4/4 [==============================] - 6s 1s/step - loss: 0.1418 - accuracy: 0.9412 - val_loss: 0.7110 - val_accuracy: 0.8788\n",
            "Epoch 9/20\n",
            "4/4 [==============================] - 6s 1s/step - loss: 0.0759 - accuracy: 0.9786 - val_loss: 0.8914 - val_accuracy: 0.8788\n",
            "Epoch 10/20\n",
            "4/4 [==============================] - 6s 1s/step - loss: 0.0930 - accuracy: 0.9626 - val_loss: 0.9042 - val_accuracy: 0.9091\n",
            "Epoch 11/20\n",
            "4/4 [==============================] - 6s 1s/step - loss: 0.0577 - accuracy: 0.9733 - val_loss: 0.8669 - val_accuracy: 0.9394\n",
            "Epoch 12/20\n",
            "4/4 [==============================] - 6s 1s/step - loss: 0.0587 - accuracy: 0.9626 - val_loss: 0.8023 - val_accuracy: 0.9394\n",
            "Epoch 13/20\n",
            "4/4 [==============================] - 6s 1s/step - loss: 0.0260 - accuracy: 1.0000 - val_loss: 0.8680 - val_accuracy: 0.9091\n",
            "Epoch 14/20\n",
            "4/4 [==============================] - 6s 1s/step - loss: 0.0345 - accuracy: 0.9893 - val_loss: 1.0150 - val_accuracy: 0.9394\n",
            "Epoch 15/20\n",
            "4/4 [==============================] - 6s 1s/step - loss: 0.0119 - accuracy: 0.9947 - val_loss: 1.2101 - val_accuracy: 0.8788\n",
            "Epoch 16/20\n",
            "4/4 [==============================] - 6s 1s/step - loss: 0.0233 - accuracy: 0.9893 - val_loss: 1.3828 - val_accuracy: 0.8788\n",
            "Epoch 17/20\n",
            "4/4 [==============================] - 6s 1s/step - loss: 0.0090 - accuracy: 1.0000 - val_loss: 1.5572 - val_accuracy: 0.8788\n",
            "Epoch 18/20\n",
            "4/4 [==============================] - 6s 1s/step - loss: 0.0078 - accuracy: 1.0000 - val_loss: 1.4695 - val_accuracy: 0.8788\n",
            "Epoch 19/20\n",
            "4/4 [==============================] - 6s 1s/step - loss: 0.0039 - accuracy: 1.0000 - val_loss: 1.3115 - val_accuracy: 0.8788\n",
            "Epoch 20/20\n",
            "4/4 [==============================] - 6s 1s/step - loss: 0.0093 - accuracy: 0.9947 - val_loss: 1.3863 - val_accuracy: 0.8485\n"
          ]
        }
      ]
    }
  ]
}