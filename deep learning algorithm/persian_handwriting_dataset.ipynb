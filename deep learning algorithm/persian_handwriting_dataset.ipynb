{
 "cells": [
  {
   "cell_type": "markdown",
   "id": "y9hjXvyDbkX6",
   "metadata": {
    "id": "y9hjXvyDbkX6"
   },
   "source": [
    "## Importing the libraries"
   ]
  },
  {
   "cell_type": "code",
   "execution_count": 1,
   "id": "8f51f2d5",
   "metadata": {
    "id": "8f51f2d5"
   },
   "outputs": [
    {
     "name": "stderr",
     "output_type": "stream",
     "text": [
      "2022-07-24 11:14:57.645642: W tensorflow/stream_executor/platform/default/dso_loader.cc:64] Could not load dynamic library 'libcudart.so.11.0'; dlerror: libcudart.so.11.0: cannot open shared object file: No such file or directory; LD_LIBRARY_PATH: /home/sara/Documents/python/mlvenv/lib/python3.9/site-packages/cv2/../../lib64:\n",
      "2022-07-24 11:14:57.645684: I tensorflow/stream_executor/cuda/cudart_stub.cc:29] Ignore above cudart dlerror if you do not have a GPU set up on your machine.\n"
     ]
    }
   ],
   "source": [
    "from HodaDatasetReader import read_hoda_cdb, read_hoda_dataset\n",
    "import tensorflow as tf\n",
    "from tensorflow import keras\n",
    "import matplotlib.pyplot as plt\n",
    "import numpy as np\n",
    "import cv2"
   ]
  },
  {
   "cell_type": "code",
   "execution_count": 2,
   "id": "b170d2eb",
   "metadata": {},
   "outputs": [
    {
     "name": "stdout",
     "output_type": "stream",
     "text": [
      "Collecting opencv-python\n",
      "  Downloading opencv_python-4.6.0.66-cp36-abi3-manylinux_2_17_x86_64.manylinux2014_x86_64.whl (60.9 MB)\n",
      "\u001b[K     |████████████████████████████████| 60.9 MB 56 kB/s  eta 0:00:01\n",
      "\u001b[?25hRequirement already satisfied: numpy>=1.19.3 in /home/sara/Documents/python/mlvenv/lib/python3.9/site-packages (from opencv-python) (1.22.3)\n",
      "Installing collected packages: opencv-python\n",
      "Successfully installed opencv-python-4.6.0.66\n",
      "\u001b[33mWARNING: You are using pip version 21.2.3; however, version 22.1.2 is available.\n",
      "You should consider upgrading via the '/home/sara/Documents/python/mlvenv/bin/python -m pip install --upgrade pip' command.\u001b[0m\n"
     ]
    }
   ],
   "source": [
    "!pip install opencv-python\n"
   ]
  },
  {
   "cell_type": "markdown",
   "id": "KwqzuOZZbuTx",
   "metadata": {
    "id": "KwqzuOZZbuTx"
   },
   "source": [
    "## Importing the dataset"
   ]
  },
  {
   "cell_type": "code",
   "execution_count": 63,
   "id": "46b674a6",
   "metadata": {
    "id": "46b674a6"
   },
   "outputs": [],
   "source": [
    "X_train, y_train = read_hoda_dataset(dataset_path='Train 60000.cdb',\n",
    "                                images_height=32,\n",
    "                                images_width=32,\n",
    "                                one_hot=False,\n",
    "                                reshape=True)\n",
    " \n",
    "X_test, y_test = read_hoda_dataset(dataset_path='Test 20000.cdb',\n",
    "                              images_height=32,\n",
    "                              images_width=32,\n",
    "                              one_hot=False,\n",
    "                              reshape=True)\n",
    "\n",
    "X_remaining, y_remaining = read_hoda_dataset(dataset_path='RemainingSamples.cdb',\n",
    "                              images_height=32,\n",
    "                              images_width=32,\n",
    "                              one_hot=False,\n",
    "                              reshape=True)"
   ]
  },
  {
   "cell_type": "code",
   "execution_count": 68,
   "id": "d3dc1c1e",
   "metadata": {},
   "outputs": [
    {
     "data": {
      "text/plain": [
       "(60000, 32, 32)"
      ]
     },
     "execution_count": 68,
     "metadata": {},
     "output_type": "execute_result"
    }
   ],
   "source": [
    "X_train.shape"
   ]
  },
  {
   "cell_type": "code",
   "execution_count": 67,
   "id": "a42fddf1",
   "metadata": {},
   "outputs": [],
   "source": []
  },
  {
   "cell_type": "code",
   "execution_count": 66,
   "id": "c9d5bd85",
   "metadata": {},
   "outputs": [
    {
     "data": {
      "text/plain": [
       "(60000,)"
      ]
     },
     "execution_count": 66,
     "metadata": {},
     "output_type": "execute_result"
    }
   ],
   "source": [
    "y_train.shape"
   ]
  },
  {
   "cell_type": "code",
   "execution_count": 13,
   "id": "3404d812",
   "metadata": {},
   "outputs": [
    {
     "data": {
      "text/plain": [
       "(60000, 10)"
      ]
     },
     "execution_count": 13,
     "metadata": {},
     "output_type": "execute_result"
    }
   ],
   "source": [
    "n_classes = 10\n",
    "y_train_cat = keras.utils.to_categorical(y_train, n_classes)\n",
    "y_test_cat = keras.utils.to_categorical(y_test,n_classes)\n",
    "y_remaining_cat = keras.utils.to_categorical(y_remaining,n_classes)\n",
    "y_train_cat.shape"
   ]
  },
  {
   "cell_type": "code",
   "execution_count": 15,
   "id": "b27775a0",
   "metadata": {
    "colab": {
     "base_uri": "https://localhost:8080/",
     "height": 227
    },
    "id": "b27775a0",
    "outputId": "ae44a170-793f-42c9-e577-07ac6728dfdf"
   },
   "outputs": [
    {
     "data": {
      "image/png": "[encoded data removed]",
      "text/plain": [
       "<Figure size 1152x216 with 3 Axes>"
      ]
     },
     "metadata": {
      "needs_background": "light"
     },
     "output_type": "display_data"
    }
   ],
   "source": [
    "fig = plt.figure(figsize=(16, 3))\n",
    "fig.add_subplot(1, 3, 1)\n",
    "plt.title('Y_train[ 0 ] = ' + str(y_train[1]))\n",
    "plt.imshow(X_train[1].reshape([32, 32]), cmap='gray')\n",
    "\n",
    "fig.add_subplot(1, 3, 2)\n",
    "plt.title('Y_test[ 0 ] = ' + str(y_test[0]))\n",
    "plt.imshow(X_test[0].reshape([32, 32]), cmap='gray')\n",
    "\n",
    "fig.add_subplot(1, 3, 3)\n",
    "plt.title('y_remaining[ 0 ] = ' + str(y_remaining[1]))\n",
    "plt.imshow(X_remaining[1].reshape([32, 32]), cmap='gray')\n",
    "\n",
    "plt.show()"
   ]
  },
  {
   "cell_type": "markdown",
   "id": "FSkTjjL-cvjt",
   "metadata": {
    "id": "FSkTjjL-cvjt"
   },
   "source": [
    "## Flatten operation "
   ]
  },
  {
   "cell_type": "code",
   "execution_count": 15,
   "id": "b96xhCuJr36o",
   "metadata": {
    "colab": {
     "base_uri": "https://localhost:8080/"
    },
    "id": "b96xhCuJr36o",
    "outputId": "62e85524-9705-4928-b31d-6da06edc2a72"
   },
   "outputs": [
    {
     "data": {
      "text/plain": [
       "(60000, 1024)"
      ]
     },
     "execution_count": 15,
     "metadata": {},
     "output_type": "execute_result"
    }
   ],
   "source": [
    "X_train_flattened = X_train.reshape(len(X_train), 32*32)\n",
    "X_test_flattened = X_test.reshape(len(X_test), 32*32)\n",
    "\n",
    "X_train_flattened.shape"
   ]
  },
  {
   "cell_type": "markdown",
   "id": "_Xz5AlNTd1ew",
   "metadata": {
    "id": "_Xz5AlNTd1ew"
   },
   "source": [
    "## Prepare and Fit a model using Keras"
   ]
  },
  {
   "cell_type": "code",
   "execution_count": 17,
   "id": "8ALlUPu5sL23",
   "metadata": {
    "colab": {
     "base_uri": "https://localhost:8080/"
    },
    "id": "8ALlUPu5sL23",
    "outputId": "72f59d10-93f8-4a1b-880e-da9283a20aa4"
   },
   "outputs": [
    {
     "name": "stdout",
     "output_type": "stream",
     "text": [
      "Epoch 1/10\n"
     ]
    },
    {
     "name": "stderr",
     "output_type": "stream",
     "text": [
      "2022-07-22 00:11:25.509896: W tensorflow/core/framework/cpu_allocator_impl.cc:82] Allocation of 245760000 exceeds 10% of free system memory.\n"
     ]
    },
    {
     "name": "stdout",
     "output_type": "stream",
     "text": [
      "1875/1875 [==============================] - 7s 3ms/step - loss: 0.1369 - accuracy: 0.9606\n",
      "Epoch 2/10\n",
      "1875/1875 [==============================] - 6s 3ms/step - loss: 0.0515 - accuracy: 0.9849\n",
      "Epoch 3/10\n",
      "1875/1875 [==============================] - 6s 3ms/step - loss: 0.0337 - accuracy: 0.9897\n",
      "Epoch 4/10\n",
      "1875/1875 [==============================] - 6s 3ms/step - loss: 0.0226 - accuracy: 0.9930\n",
      "Epoch 5/10\n",
      "1875/1875 [==============================] - 7s 3ms/step - loss: 0.0157 - accuracy: 0.9949\n",
      "Epoch 6/10\n",
      "1875/1875 [==============================] - 6s 3ms/step - loss: 0.0114 - accuracy: 0.9963\n",
      "Epoch 7/10\n",
      "1875/1875 [==============================] - 6s 3ms/step - loss: 0.0084 - accuracy: 0.9973\n",
      "Epoch 8/10\n",
      "1875/1875 [==============================] - 7s 4ms/step - loss: 0.0064 - accuracy: 0.9977\n",
      "Epoch 9/10\n",
      "1875/1875 [==============================] - 6s 3ms/step - loss: 0.0060 - accuracy: 0.9980\n",
      "Epoch 10/10\n",
      "1875/1875 [==============================] - 6s 3ms/step - loss: 0.0045 - accuracy: 0.9985\n"
     ]
    },
    {
     "data": {
      "text/plain": [
       "<keras.callbacks.History at 0x7fbd5fd2daf0>"
      ]
     },
     "execution_count": 17,
     "metadata": {},
     "output_type": "execute_result"
    }
   ],
   "source": [
    "model = keras.Sequential([\n",
    "    keras.layers.Dense(100, input_shape=(1024,), activation='relu'),\n",
    "    keras.layers.Dense(10, activation='sigmoid')])\n",
    "\n",
    "model.compile(optimizer='adam',\n",
    "              loss='sparse_categorical_crossentropy',\n",
    "              metrics=['accuracy'])\n",
    "\n",
    "model.fit(X_train_flattened, y_train, epochs=10)"
   ]
  },
  {
   "cell_type": "markdown",
   "id": "hDKbyd5PfNkA",
   "metadata": {
    "id": "hDKbyd5PfNkA"
   },
   "source": [
    "## Evaluating model using test set"
   ]
  },
  {
   "cell_type": "code",
   "execution_count": 18,
   "id": "ZEHnKynbsceX",
   "metadata": {
    "colab": {
     "base_uri": "https://localhost:8080/"
    },
    "id": "ZEHnKynbsceX",
    "outputId": "719f3a96-b0e2-4a5e-80f2-c6a1440c77ea"
   },
   "outputs": [
    {
     "name": "stderr",
     "output_type": "stream",
     "text": [
      "2022-07-22 00:12:33.005498: W tensorflow/core/framework/cpu_allocator_impl.cc:82] Allocation of 81920000 exceeds 10% of free system memory.\n"
     ]
    },
    {
     "name": "stdout",
     "output_type": "stream",
     "text": [
      "625/625 [==============================] - 2s 3ms/step - loss: 0.1145 - accuracy: 0.9776\n"
     ]
    },
    {
     "data": {
      "text/plain": [
       "[0.11451797187328339, 0.9775500297546387]"
      ]
     },
     "execution_count": 18,
     "metadata": {},
     "output_type": "execute_result"
    }
   ],
   "source": [
    "model.evaluate(X_test_flattened, y_test)"
   ]
  },
  {
   "cell_type": "code",
   "execution_count": 19,
   "id": "915c3eec",
   "metadata": {},
   "outputs": [
    {
     "name": "stdout",
     "output_type": "stream",
     "text": [
      "699/699 [==============================] - 2s 3ms/step - loss: 0.0947 - accuracy: 0.9812\n"
     ]
    },
    {
     "data": {
      "text/plain": [
       "[0.09465115517377853, 0.9812097549438477]"
      ]
     },
     "execution_count": 19,
     "metadata": {},
     "output_type": "execute_result"
    }
   ],
   "source": [
    "model.evaluate(X_remaining, y_remaining)"
   ]
  },
  {
   "cell_type": "markdown",
   "id": "Y_6_acZAfWqw",
   "metadata": {
    "id": "Y_6_acZAfWqw"
   },
   "source": [
    "## Predicting test lable"
   ]
  },
  {
   "cell_type": "code",
   "execution_count": 21,
   "id": "1rBMC4Lpz57f",
   "metadata": {
    "colab": {
     "base_uri": "https://localhost:8080/"
    },
    "id": "1rBMC4Lpz57f",
    "outputId": "eca25152-c4d9-4a57-d70c-e51b88a064dd"
   },
   "outputs": [
    {
     "name": "stdout",
     "output_type": "stream",
     "text": [
      "625/625 [==============================] - 2s 3ms/step\n"
     ]
    },
    {
     "data": {
      "text/plain": [
       "(20000, 10)"
      ]
     },
     "execution_count": 21,
     "metadata": {},
     "output_type": "execute_result"
    }
   ],
   "source": [
    "y_predicted = model.predict(X_test_flattened)\n",
    "y_predicted.shape"
   ]
  },
  {
   "cell_type": "markdown",
   "id": "NGj1XZH0mbqv",
   "metadata": {
    "id": "NGj1XZH0mbqv"
   },
   "source": [
    "## Funny test"
   ]
  },
  {
   "cell_type": "code",
   "execution_count": 22,
   "id": "x0nwr9nW0Aov",
   "metadata": {
    "colab": {
     "base_uri": "https://localhost:8080/",
     "height": 283
    },
    "id": "x0nwr9nW0Aov",
    "outputId": "c802701e-c905-46ed-eb10-65b3d2823df0"
   },
   "outputs": [
    {
     "data": {
      "text/plain": [
       "3"
      ]
     },
     "execution_count": 22,
     "metadata": {},
     "output_type": "execute_result"
    },
    {
     "data": {
      "image/png": "[encoded data removed]",
      "text/plain": [
       "<Figure size 432x288 with 1 Axes>"
      ]
     },
     "metadata": {
      "needs_background": "light"
     },
     "output_type": "display_data"
    }
   ],
   "source": [
    "plt.imshow(X_test[6353].reshape([32,32]))\n",
    "np.argmax(y_predicted[6353])"
   ]
  },
  {
   "cell_type": "markdown",
   "id": "VhMnKIzdjRJq",
   "metadata": {
    "id": "VhMnKIzdjRJq"
   },
   "source": [
    "## Confusionmatrix"
   ]
  },
  {
   "cell_type": "code",
   "execution_count": 12,
   "id": "SQOs5y3NZkAr",
   "metadata": {
    "colab": {
     "base_uri": "https://localhost:8080/"
    },
    "id": "SQOs5y3NZkAr",
    "outputId": "cd809ec9-c771-4d15-c496-66bfa0dc5c51"
   },
   "outputs": [
    {
     "data": {
      "text/plain": [
       "<tf.Tensor: shape=(10, 10), dtype=int32, numpy=\n",
       "array([[1978,    0,    0,    1,    1,   15,    2,    3,    0,    0],\n",
       "       [   1, 1991,    1,    0,    3,    0,    2,    2,    0,    0],\n",
       "       [   0,    6, 1951,   32,    3,    0,    4,    2,    0,    2],\n",
       "       [   4,    0,   66, 1896,   28,    2,    1,    1,    2,    0],\n",
       "       [   2,    2,   22,   56, 1904,    4,    2,    2,    1,    5],\n",
       "       [   8,    4,    2,    0,   15, 1961,    1,    4,    5,    0],\n",
       "       [   1,    4,    7,    3,    4,    6, 1942,    3,    2,   28],\n",
       "       [   1,    5,   11,    0,    1,    7,    3, 1972,    0,    0],\n",
       "       [   0,    6,    0,    0,    3,   30,    2,    0, 1946,   13],\n",
       "       [   1,   23,    3,    1,    3,    2,   15,    0,    8, 1944]],\n",
       "      dtype=int32)>"
      ]
     },
     "execution_count": 12,
     "metadata": {},
     "output_type": "execute_result"
    }
   ],
   "source": [
    "y_predicted_labels = [np.argmax(i) for i in y_predicted]\n",
    "confusion_matrix = tf.math.confusion_matrix(labels=y_test,predictions=y_predicted_labels)\n",
    "confusion_matrix"
   ]
  },
  {
   "cell_type": "markdown",
   "id": "uyzqr_xErgPZ",
   "metadata": {
    "id": "uyzqr_xErgPZ"
   },
   "source": [
    "## Confusionmatrix with swabord"
   ]
  },
  {
   "cell_type": "code",
   "execution_count": 13,
   "id": "uAcHB3srrdQp",
   "metadata": {
    "colab": {
     "base_uri": "https://localhost:8080/",
     "height": 459
    },
    "id": "uAcHB3srrdQp",
    "outputId": "200381a1-b11e-47e2-9ea0-0a647eafdd1f"
   },
   "outputs": [
    {
     "data": {
      "text/plain": [
       "Text(69.0, 0.5, 'Truth')"
      ]
     },
     "execution_count": 13,
     "metadata": {},
     "output_type": "execute_result"
    },
    {
     "data": {
      "image/png": "[encoded data removed]",
      "text/plain": [
       "<Figure size 720x504 with 2 Axes>"
      ]
     },
     "metadata": {
      "needs_background": "light"
     },
     "output_type": "display_data"
    }
   ],
   "source": [
    "import seaborn as sn\n",
    "plt.figure(figsize = (10,7))\n",
    "sn.heatmap(confusion_matrix, annot=True, fmt='d')\n",
    "plt.xlabel('Predicted')\n",
    "plt.ylabel('Truth')"
   ]
  },
  {
   "cell_type": "markdown",
   "id": "1N1H_RSzmiMg",
   "metadata": {
    "id": "1N1H_RSzmiMg"
   },
   "source": [
    "## Testing model using external sample"
   ]
  },
  {
   "cell_type": "code",
   "execution_count": 14,
   "id": "2DlzrQLH8MCi",
   "metadata": {
    "colab": {
     "base_uri": "https://localhost:8080/",
     "height": 283
    },
    "id": "2DlzrQLH8MCi",
    "outputId": "63f7d71f-7d3c-4113-b244-63c1a2ef35f1"
   },
   "outputs": [
    {
     "data": {
      "text/plain": [
       "<matplotlib.image.AxesImage at 0x7f4b290b1150>"
      ]
     },
     "execution_count": 14,
     "metadata": {},
     "output_type": "execute_result"
    },
    {
     "data": {
      "image/png": "[encoded data removed]",
      "text/plain": [
       "<Figure size 432x288 with 1 Axes>"
      ]
     },
     "metadata": {
      "needs_background": "light"
     },
     "output_type": "display_data"
    }
   ],
   "source": [
    "original_img = cv2.imread(\"Test_image/4.jpg\")\n",
    "resized_img = cv2.resize(original_img, (32, 32))\n",
    "\n",
    "resultNot = cv2.bitwise_not(src=resized_img, dst=resized_img)\n",
    "(thresh, blackAndWhiteImage) = cv2.threshold(resultNot, 127, 255, cv2.THRESH_BINARY)\n",
    "_, _, final_result = cv2.split(blackAndWhiteImage)\n",
    "final_result = final_result / 255\n",
    "cv2.cvtColor(blackAndWhiteImage, cv2.COLOR_BGR2RGB)\n",
    "plt.imshow(blackAndWhiteImage,)"
   ]
  },
  {
   "cell_type": "code",
   "execution_count": 15,
   "id": "ocRR7HGBB-YY",
   "metadata": {
    "colab": {
     "base_uri": "https://localhost:8080/"
    },
    "id": "ocRR7HGBB-YY",
    "outputId": "de5d0ee9-2740-430e-f8cc-f6999e57ca1f"
   },
   "outputs": [
    {
     "data": {
      "text/plain": [
       "4"
      ]
     },
     "execution_count": 15,
     "metadata": {},
     "output_type": "execute_result"
    }
   ],
   "source": [
    "final_result_flattened = final_result.reshape(1, 32*32)\n",
    "input_y_predicted = model.predict([final_result_flattened])\n",
    "np.argmax(input_y_predicted)"
   ]
  },
  {
   "cell_type": "code",
   "execution_count": null,
   "id": "864dabb9",
   "metadata": {},
   "outputs": [],
   "source": []
  },
  {
   "cell_type": "code",
   "execution_count": null,
   "id": "09d16702",
   "metadata": {},
   "outputs": [],
   "source": []
  },
  {
   "cell_type": "code",
   "execution_count": null,
   "id": "9563eb04",
   "metadata": {},
   "outputs": [],
   "source": []
  },
  {
   "cell_type": "code",
   "execution_count": null,
   "id": "aa60ca47",
   "metadata": {},
   "outputs": [],
   "source": []
  },
  {
   "cell_type": "code",
   "execution_count": null,
   "id": "21061fa2",
   "metadata": {},
   "outputs": [],
   "source": []
  },
  {
   "cell_type": "code",
   "execution_count": null,
   "id": "3ac097b3",
   "metadata": {},
   "outputs": [],
   "source": [
    "\"\"\"Sequential API\"\"\""
   ]
  },
  {
   "cell_type": "code",
   "execution_count": 23,
   "id": "82d28841",
   "metadata": {},
   "outputs": [],
   "source": [
    "from tensorflow.keras.layers import Dense\n",
    "model=keras.Sequential()\n",
    "model.add(Dense(50,activation='relu',input_shape=(1024,)))\n",
    "model.add(Dense(50,activation='relu'))\n",
    "model.add(Dense(10,activation='softmax'))"
   ]
  },
  {
   "cell_type": "code",
   "execution_count": 24,
   "id": "47da002b",
   "metadata": {},
   "outputs": [],
   "source": [
    "opt = keras.optimizers.Adam(learning_rate=0.01)\n",
    "model.compile(optimizer=opt,loss='categorical_crossentropy',metrics=['accuracy'])"
   ]
  },
  {
   "cell_type": "code",
   "execution_count": 27,
   "id": "e89e05ea",
   "metadata": {},
   "outputs": [
    {
     "name": "stdout",
     "output_type": "stream",
     "text": [
      "Epoch 1/25\n",
      "1200/1200 [==============================] - 5s 3ms/step - loss: 0.0496 - accuracy: 0.9898 - val_loss: 0.1828 - val_accuracy: 0.9784\n",
      "Epoch 2/25\n",
      "1200/1200 [==============================] - 4s 3ms/step - loss: 0.0421 - accuracy: 0.9919 - val_loss: 0.2072 - val_accuracy: 0.9810\n",
      "Epoch 3/25\n",
      "1200/1200 [==============================] - 4s 3ms/step - loss: 0.0374 - accuracy: 0.9921 - val_loss: 0.2262 - val_accuracy: 0.9783\n",
      "Epoch 4/25\n",
      "1200/1200 [==============================] - 4s 3ms/step - loss: 0.0495 - accuracy: 0.9904 - val_loss: 0.2254 - val_accuracy: 0.9796\n",
      "Epoch 5/25\n",
      "1200/1200 [==============================] - 4s 4ms/step - loss: 0.0349 - accuracy: 0.9924 - val_loss: 0.2160 - val_accuracy: 0.9823\n",
      "Epoch 6/25\n",
      "1200/1200 [==============================] - 5s 4ms/step - loss: 0.0416 - accuracy: 0.9926 - val_loss: 0.2733 - val_accuracy: 0.9793\n",
      "Epoch 7/25\n",
      "1200/1200 [==============================] - 4s 4ms/step - loss: 0.0370 - accuracy: 0.9922 - val_loss: 0.2581 - val_accuracy: 0.9778\n",
      "Epoch 8/25\n",
      "1200/1200 [==============================] - 4s 4ms/step - loss: 0.0363 - accuracy: 0.9929 - val_loss: 0.2498 - val_accuracy: 0.9801\n",
      "Epoch 9/25\n",
      "1200/1200 [==============================] - 4s 4ms/step - loss: 0.0326 - accuracy: 0.9927 - val_loss: 0.2486 - val_accuracy: 0.9803\n",
      "Epoch 10/25\n",
      "1200/1200 [==============================] - 4s 4ms/step - loss: 0.0365 - accuracy: 0.9925 - val_loss: 0.2848 - val_accuracy: 0.9808\n",
      "Epoch 11/25\n",
      "1200/1200 [==============================] - 4s 3ms/step - loss: 0.0309 - accuracy: 0.9938 - val_loss: 0.3195 - val_accuracy: 0.9802\n",
      "Epoch 12/25\n",
      "1200/1200 [==============================] - 4s 3ms/step - loss: 0.0394 - accuracy: 0.9930 - val_loss: 0.2804 - val_accuracy: 0.9782\n",
      "Epoch 13/25\n",
      "1200/1200 [==============================] - 4s 3ms/step - loss: 0.0392 - accuracy: 0.9926 - val_loss: 0.3119 - val_accuracy: 0.9793\n",
      "Epoch 14/25\n",
      "1200/1200 [==============================] - 4s 3ms/step - loss: 0.0356 - accuracy: 0.9938 - val_loss: 0.2813 - val_accuracy: 0.9805\n",
      "Epoch 15/25\n",
      "1200/1200 [==============================] - 4s 3ms/step - loss: 0.0428 - accuracy: 0.9929 - val_loss: 0.2825 - val_accuracy: 0.9798\n",
      "Epoch 16/25\n",
      "1200/1200 [==============================] - 4s 4ms/step - loss: 0.0269 - accuracy: 0.9941 - val_loss: 0.2675 - val_accuracy: 0.9809\n",
      "Epoch 17/25\n",
      "1200/1200 [==============================] - 4s 4ms/step - loss: 0.0308 - accuracy: 0.9936 - val_loss: 0.2290 - val_accuracy: 0.9820\n",
      "Epoch 18/25\n",
      "1200/1200 [==============================] - 4s 3ms/step - loss: 0.0362 - accuracy: 0.9922 - val_loss: 0.2817 - val_accuracy: 0.9792\n",
      "Epoch 19/25\n",
      "1200/1200 [==============================] - 4s 4ms/step - loss: 0.0265 - accuracy: 0.9943 - val_loss: 0.2881 - val_accuracy: 0.9808\n",
      "Epoch 20/25\n",
      "1200/1200 [==============================] - 4s 3ms/step - loss: 0.0302 - accuracy: 0.9942 - val_loss: 0.3766 - val_accuracy: 0.9779\n",
      "Epoch 21/25\n",
      "1200/1200 [==============================] - 4s 3ms/step - loss: 0.0317 - accuracy: 0.9935 - val_loss: 0.2664 - val_accuracy: 0.9803\n",
      "Epoch 22/25\n",
      "1200/1200 [==============================] - 4s 4ms/step - loss: 0.0291 - accuracy: 0.9946 - val_loss: 0.4311 - val_accuracy: 0.9800\n",
      "Epoch 23/25\n",
      "1200/1200 [==============================] - 4s 3ms/step - loss: 0.0310 - accuracy: 0.9943 - val_loss: 0.3323 - val_accuracy: 0.9818\n",
      "Epoch 24/25\n",
      "1200/1200 [==============================] - 4s 4ms/step - loss: 0.0276 - accuracy: 0.9947 - val_loss: 0.3550 - val_accuracy: 0.9808\n",
      "Epoch 25/25\n",
      "1200/1200 [==============================] - 4s 3ms/step - loss: 0.0531 - accuracy: 0.9922 - val_loss: 0.3567 - val_accuracy: 0.9783\n"
     ]
    }
   ],
   "source": [
    "history=model.fit(X_train,y_train_cat,epochs=25,batch_size=40,validation_split=0.2)"
   ]
  },
  {
   "cell_type": "code",
   "execution_count": 28,
   "id": "0fc17484",
   "metadata": {},
   "outputs": [
    {
     "name": "stdout",
     "output_type": "stream",
     "text": [
      "625/625 [==============================] - 1s 2ms/step - loss: 0.6715 - accuracy: 0.9602\n"
     ]
    },
    {
     "data": {
      "text/plain": [
       "[0.6715288758277893, 0.9601500034332275]"
      ]
     },
     "execution_count": 28,
     "metadata": {},
     "output_type": "execute_result"
    }
   ],
   "source": [
    "model.evaluate(X_test,y_test_cat)"
   ]
  },
  {
   "cell_type": "code",
   "execution_count": 31,
   "id": "2e6c2a26",
   "metadata": {},
   "outputs": [],
   "source": [
    "colors = plt.rcParams['axes.prop_cycle'].by_key()['color']\n",
    "def plot_loss(history, label, n):\n",
    "  # Use a log scale to show the wide range of values.\n",
    "    plt.semilogy(history.epoch,  history.history['loss'],  color=colors[n], label='Train '+label)\n",
    "    plt.semilogy(history.epoch,  history.history['val_loss'], color=colors[n], label='Val '+label, \n",
    "                       linestyle=\"--\")\n",
    "    plt.xlabel('Epoch')\n",
    "    plt.ylabel('loss')\n",
    "  \n",
    "    plt.legend()"
   ]
  },
  {
   "cell_type": "code",
   "execution_count": 32,
   "id": "859bdfc9",
   "metadata": {},
   "outputs": [
    {
     "data": {
      "image/png": "[encoded data removed]",
      "text/plain": [
       "<Figure size 432x288 with 1 Axes>"
      ]
     },
     "metadata": {
      "needs_background": "light"
     },
     "output_type": "display_data"
    }
   ],
   "source": [
    "plot_loss(history, \"history\", 1)"
   ]
  },
  {
   "cell_type": "code",
   "execution_count": 33,
   "id": "f93f5514",
   "metadata": {},
   "outputs": [],
   "source": [
    "colors = plt.rcParams['axes.prop_cycle'].by_key()['color']\n",
    "def plot_accuracy(history, label, n):\n",
    "  # Use a log scale to show the wide range of values.\n",
    "    plt.semilogy(history.epoch,  history.history['accuracy'],  color=colors[n], label='Train '+label)\n",
    "    plt.semilogy(history.epoch,  history.history['val_accuracy'], color=colors[n], label='Val '+label, \n",
    "                       linestyle=\"--\")\n",
    "    plt.xlabel('Epoch')\n",
    "    plt.ylabel('accuracy')\n",
    "  \n",
    "    plt.legend()"
   ]
  },
  {
   "cell_type": "code",
   "execution_count": 34,
   "id": "655c4f4e",
   "metadata": {},
   "outputs": [
    {
     "data": {
      "image/png": "[encoded data removed]",
      "text/plain": [
       "<Figure size 432x288 with 1 Axes>"
      ]
     },
     "metadata": {
      "needs_background": "light"
     },
     "output_type": "display_data"
    }
   ],
   "source": [
    "plot_accuracy(history, \"history\", 1)"
   ]
  },
  {
   "cell_type": "code",
   "execution_count": null,
   "id": "b34d43ff",
   "metadata": {},
   "outputs": [],
   "source": [
    "\"\"\"Functional API\"\"\""
   ]
  },
  {
   "cell_type": "code",
   "execution_count": 36,
   "id": "01dc3dd6",
   "metadata": {},
   "outputs": [],
   "source": [
    "visible = keras.layers.Input(shape=(1024,))\n",
    "hidden1 = Dense(50, activation='relu')(visible)\n",
    "hidden2 = Dense(50, activation='relu')(hidden1)\n",
    "output = Dense(10, activation='sigmoid')(hidden2)\n",
    "model = keras.models.Model(inputs=visible, outputs=output)\n",
    " "
   ]
  },
  {
   "cell_type": "code",
   "execution_count": 37,
   "id": "438bec53",
   "metadata": {},
   "outputs": [
    {
     "name": "stdout",
     "output_type": "stream",
     "text": [
      "Epoch 1/20\n",
      "750/750 [==============================] - 4s 5ms/step - loss: 0.2048 - accuracy: 0.9416 - val_loss: 0.0956 - val_accuracy: 0.9737\n",
      "Epoch 2/20\n",
      "750/750 [==============================] - 3s 4ms/step - loss: 0.0793 - accuracy: 0.9775 - val_loss: 0.0810 - val_accuracy: 0.9778\n",
      "Epoch 3/20\n",
      "750/750 [==============================] - 3s 4ms/step - loss: 0.0558 - accuracy: 0.9836 - val_loss: 0.0717 - val_accuracy: 0.9793\n",
      "Epoch 4/20\n",
      "750/750 [==============================] - 3s 3ms/step - loss: 0.0416 - accuracy: 0.9873 - val_loss: 0.0661 - val_accuracy: 0.9810\n",
      "Epoch 5/20\n",
      "750/750 [==============================] - 3s 4ms/step - loss: 0.0308 - accuracy: 0.9907 - val_loss: 0.0627 - val_accuracy: 0.9828\n",
      "Epoch 6/20\n",
      "750/750 [==============================] - 3s 3ms/step - loss: 0.0234 - accuracy: 0.9928 - val_loss: 0.0689 - val_accuracy: 0.9820\n",
      "Epoch 7/20\n",
      "750/750 [==============================] - 2s 3ms/step - loss: 0.0191 - accuracy: 0.9938 - val_loss: 0.0616 - val_accuracy: 0.9832\n",
      "Epoch 8/20\n",
      "750/750 [==============================] - 2s 3ms/step - loss: 0.0146 - accuracy: 0.9952 - val_loss: 0.0680 - val_accuracy: 0.9816\n",
      "Epoch 9/20\n",
      "750/750 [==============================] - 2s 3ms/step - loss: 0.0132 - accuracy: 0.9959 - val_loss: 0.0639 - val_accuracy: 0.9843\n",
      "Epoch 10/20\n",
      "750/750 [==============================] - 3s 4ms/step - loss: 0.0101 - accuracy: 0.9970 - val_loss: 0.0731 - val_accuracy: 0.9822\n",
      "Epoch 11/20\n",
      "750/750 [==============================] - 3s 4ms/step - loss: 0.0088 - accuracy: 0.9971 - val_loss: 0.0628 - val_accuracy: 0.9842\n",
      "Epoch 12/20\n",
      "750/750 [==============================] - 3s 4ms/step - loss: 0.0087 - accuracy: 0.9976 - val_loss: 0.0721 - val_accuracy: 0.9833\n",
      "Epoch 13/20\n",
      "750/750 [==============================] - 3s 4ms/step - loss: 0.0071 - accuracy: 0.9975 - val_loss: 0.0696 - val_accuracy: 0.9859\n",
      "Epoch 14/20\n",
      "750/750 [==============================] - 3s 3ms/step - loss: 0.0031 - accuracy: 0.9992 - val_loss: 0.0729 - val_accuracy: 0.9851\n",
      "Epoch 15/20\n",
      "750/750 [==============================] - 3s 4ms/step - loss: 0.0095 - accuracy: 0.9970 - val_loss: 0.0777 - val_accuracy: 0.9851\n",
      "Epoch 16/20\n",
      "750/750 [==============================] - 3s 4ms/step - loss: 0.0060 - accuracy: 0.9980 - val_loss: 0.0900 - val_accuracy: 0.9827\n",
      "Epoch 17/20\n",
      "750/750 [==============================] - 3s 5ms/step - loss: 0.0053 - accuracy: 0.9985 - val_loss: 0.0836 - val_accuracy: 0.9859\n",
      "Epoch 18/20\n",
      "750/750 [==============================] - 3s 4ms/step - loss: 0.0040 - accuracy: 0.9989 - val_loss: 0.0811 - val_accuracy: 0.9860\n",
      "Epoch 19/20\n",
      "750/750 [==============================] - 3s 4ms/step - loss: 0.0040 - accuracy: 0.9986 - val_loss: 0.0857 - val_accuracy: 0.9852\n",
      "Epoch 20/20\n",
      "750/750 [==============================] - 3s 4ms/step - loss: 0.0033 - accuracy: 0.9989 - val_loss: 0.0876 - val_accuracy: 0.9856\n"
     ]
    }
   ],
   "source": [
    "model.compile(optimizer='adam',loss='categorical_crossentropy',metrics=['accuracy'])\n",
    "history = model.fit(X_train, y_train_cat, batch_size=64, epochs=20,validation_split=0.2)"
   ]
  },
  {
   "cell_type": "code",
   "execution_count": 38,
   "id": "484e1335",
   "metadata": {},
   "outputs": [
    {
     "name": "stdout",
     "output_type": "stream",
     "text": [
      "Collecting keras-tuner\n",
      "  Downloading keras_tuner-1.1.3-py3-none-any.whl (135 kB)\n",
      "\u001b[K     |████████████████████████████████| 135 kB 458 kB/s eta 0:00:01\n",
      "\u001b[?25hRequirement already satisfied: numpy in /home/sara/Documents/python/mlvenv/lib/python3.9/site-packages (from keras-tuner) (1.22.3)\n",
      "Requirement already satisfied: ipython in /home/sara/Documents/python/mlvenv/lib/python3.9/site-packages (from keras-tuner) (8.2.0)\n",
      "Requirement already satisfied: requests in /home/sara/Documents/python/mlvenv/lib/python3.9/site-packages (from keras-tuner) (2.27.1)\n",
      "Requirement already satisfied: packaging in /home/sara/Documents/python/mlvenv/lib/python3.9/site-packages (from keras-tuner) (21.3)\n",
      "Collecting kt-legacy\n",
      "  Downloading kt_legacy-1.0.4-py3-none-any.whl (9.6 kB)\n",
      "Requirement already satisfied: tensorboard in /home/sara/Documents/python/mlvenv/lib/python3.9/site-packages (from keras-tuner) (2.9.1)\n",
      "Requirement already satisfied: pygments>=2.4.0 in /home/sara/Documents/python/mlvenv/lib/python3.9/site-packages (from ipython->keras-tuner) (2.11.2)\n",
      "Requirement already satisfied: setuptools>=18.5 in /home/sara/Documents/python/mlvenv/lib/python3.9/site-packages (from ipython->keras-tuner) (57.4.0)\n",
      "Requirement already satisfied: jedi>=0.16 in /home/sara/Documents/python/mlvenv/lib/python3.9/site-packages (from ipython->keras-tuner) (0.18.1)\n",
      "Requirement already satisfied: decorator in /home/sara/Documents/python/mlvenv/lib/python3.9/site-packages (from ipython->keras-tuner) (5.1.1)\n",
      "Requirement already satisfied: backcall in /home/sara/Documents/python/mlvenv/lib/python3.9/site-packages (from ipython->keras-tuner) (0.2.0)\n",
      "Requirement already satisfied: matplotlib-inline in /home/sara/Documents/python/mlvenv/lib/python3.9/site-packages (from ipython->keras-tuner) (0.1.3)\n",
      "Requirement already satisfied: stack-data in /home/sara/Documents/python/mlvenv/lib/python3.9/site-packages (from ipython->keras-tuner) (0.2.0)\n",
      "Requirement already satisfied: pickleshare in /home/sara/Documents/python/mlvenv/lib/python3.9/site-packages (from ipython->keras-tuner) (0.7.5)\n",
      "Requirement already satisfied: traitlets>=5 in /home/sara/Documents/python/mlvenv/lib/python3.9/site-packages (from ipython->keras-tuner) (5.1.1)\n",
      "Requirement already satisfied: pexpect>4.3 in /home/sara/Documents/python/mlvenv/lib/python3.9/site-packages (from ipython->keras-tuner) (4.8.0)\n",
      "Requirement already satisfied: prompt-toolkit!=3.0.0,!=3.0.1,<3.1.0,>=2.0.0 in /home/sara/Documents/python/mlvenv/lib/python3.9/site-packages (from ipython->keras-tuner) (3.0.29)\n",
      "Requirement already satisfied: parso<0.9.0,>=0.8.0 in /home/sara/Documents/python/mlvenv/lib/python3.9/site-packages (from jedi>=0.16->ipython->keras-tuner) (0.8.3)\n",
      "Requirement already satisfied: ptyprocess>=0.5 in /home/sara/Documents/python/mlvenv/lib/python3.9/site-packages (from pexpect>4.3->ipython->keras-tuner) (0.7.0)\n",
      "Requirement already satisfied: wcwidth in /home/sara/Documents/python/mlvenv/lib/python3.9/site-packages (from prompt-toolkit!=3.0.0,!=3.0.1,<3.1.0,>=2.0.0->ipython->keras-tuner) (0.2.5)\n",
      "Requirement already satisfied: pyparsing!=3.0.5,>=2.0.2 in /home/sara/Documents/python/mlvenv/lib/python3.9/site-packages (from packaging->keras-tuner) (3.0.8)\n",
      "Requirement already satisfied: charset-normalizer~=2.0.0 in /home/sara/Documents/python/mlvenv/lib/python3.9/site-packages (from requests->keras-tuner) (2.0.12)\n",
      "Requirement already satisfied: urllib3<1.27,>=1.21.1 in /home/sara/Documents/python/mlvenv/lib/python3.9/site-packages (from requests->keras-tuner) (1.26.9)\n",
      "Requirement already satisfied: idna<4,>=2.5 in /home/sara/Documents/python/mlvenv/lib/python3.9/site-packages (from requests->keras-tuner) (3.3)\n",
      "Requirement already satisfied: certifi>=2017.4.17 in /home/sara/Documents/python/mlvenv/lib/python3.9/site-packages (from requests->keras-tuner) (2021.10.8)\n",
      "Requirement already satisfied: asttokens in /home/sara/Documents/python/mlvenv/lib/python3.9/site-packages (from stack-data->ipython->keras-tuner) (2.0.5)\n",
      "Requirement already satisfied: executing in /home/sara/Documents/python/mlvenv/lib/python3.9/site-packages (from stack-data->ipython->keras-tuner) (0.8.3)\n",
      "Requirement already satisfied: pure-eval in /home/sara/Documents/python/mlvenv/lib/python3.9/site-packages (from stack-data->ipython->keras-tuner) (0.2.2)\n",
      "Requirement already satisfied: six in /home/sara/Documents/python/mlvenv/lib/python3.9/site-packages (from asttokens->stack-data->ipython->keras-tuner) (1.16.0)\n",
      "Requirement already satisfied: werkzeug>=1.0.1 in /home/sara/Documents/python/mlvenv/lib/python3.9/site-packages (from tensorboard->keras-tuner) (2.1.2)\n",
      "Requirement already satisfied: wheel>=0.26 in /home/sara/Documents/python/mlvenv/lib/python3.9/site-packages (from tensorboard->keras-tuner) (0.37.1)\n",
      "Requirement already satisfied: markdown>=2.6.8 in /home/sara/Documents/python/mlvenv/lib/python3.9/site-packages (from tensorboard->keras-tuner) (3.3.7)\n",
      "Requirement already satisfied: tensorboard-data-server<0.7.0,>=0.6.0 in /home/sara/Documents/python/mlvenv/lib/python3.9/site-packages (from tensorboard->keras-tuner) (0.6.1)\n",
      "Requirement already satisfied: tensorboard-plugin-wit>=1.6.0 in /home/sara/Documents/python/mlvenv/lib/python3.9/site-packages (from tensorboard->keras-tuner) (1.8.1)\n",
      "Requirement already satisfied: grpcio>=1.24.3 in /home/sara/Documents/python/mlvenv/lib/python3.9/site-packages (from tensorboard->keras-tuner) (1.47.0)\n",
      "Requirement already satisfied: google-auth-oauthlib<0.5,>=0.4.1 in /home/sara/Documents/python/mlvenv/lib/python3.9/site-packages (from tensorboard->keras-tuner) (0.4.6)\n",
      "Requirement already satisfied: google-auth<3,>=1.6.3 in /home/sara/Documents/python/mlvenv/lib/python3.9/site-packages (from tensorboard->keras-tuner) (2.9.1)\n",
      "Requirement already satisfied: absl-py>=0.4 in /home/sara/Documents/python/mlvenv/lib/python3.9/site-packages (from tensorboard->keras-tuner) (1.1.0)\n",
      "Requirement already satisfied: protobuf<3.20,>=3.9.2 in /home/sara/Documents/python/mlvenv/lib/python3.9/site-packages (from tensorboard->keras-tuner) (3.19.4)\n",
      "Requirement already satisfied: cachetools<6.0,>=2.0.0 in /home/sara/Documents/python/mlvenv/lib/python3.9/site-packages (from google-auth<3,>=1.6.3->tensorboard->keras-tuner) (5.2.0)\n",
      "Requirement already satisfied: pyasn1-modules>=0.2.1 in /home/sara/Documents/python/mlvenv/lib/python3.9/site-packages (from google-auth<3,>=1.6.3->tensorboard->keras-tuner) (0.2.8)\n",
      "Requirement already satisfied: rsa<5,>=3.1.4 in /home/sara/Documents/python/mlvenv/lib/python3.9/site-packages (from google-auth<3,>=1.6.3->tensorboard->keras-tuner) (4.8)\n",
      "Requirement already satisfied: requests-oauthlib>=0.7.0 in /home/sara/Documents/python/mlvenv/lib/python3.9/site-packages (from google-auth-oauthlib<0.5,>=0.4.1->tensorboard->keras-tuner) (1.3.1)\n",
      "Requirement already satisfied: importlib-metadata>=4.4 in /home/sara/Documents/python/mlvenv/lib/python3.9/site-packages (from markdown>=2.6.8->tensorboard->keras-tuner) (4.12.0)\n",
      "Requirement already satisfied: zipp>=0.5 in /home/sara/Documents/python/mlvenv/lib/python3.9/site-packages (from importlib-metadata>=4.4->markdown>=2.6.8->tensorboard->keras-tuner) (3.8.0)\n",
      "Requirement already satisfied: pyasn1<0.5.0,>=0.4.6 in /home/sara/Documents/python/mlvenv/lib/python3.9/site-packages (from pyasn1-modules>=0.2.1->google-auth<3,>=1.6.3->tensorboard->keras-tuner) (0.4.8)\n",
      "Requirement already satisfied: oauthlib>=3.0.0 in /home/sara/Documents/python/mlvenv/lib/python3.9/site-packages (from requests-oauthlib>=0.7.0->google-auth-oauthlib<0.5,>=0.4.1->tensorboard->keras-tuner) (3.2.0)\n",
      "Installing collected packages: kt-legacy, keras-tuner\n",
      "Successfully installed keras-tuner-1.1.3 kt-legacy-1.0.4\n",
      "\u001b[33mWARNING: You are using pip version 21.2.3; however, version 22.1.2 is available.\n",
      "You should consider upgrading via the '/home/sara/Documents/python/mlvenv/bin/python -m pip install --upgrade pip' command.\u001b[0m\n"
     ]
    }
   ],
   "source": [
    "!pip install keras-tuner"
   ]
  },
  {
   "cell_type": "code",
   "execution_count": null,
   "id": "358b6270",
   "metadata": {},
   "outputs": [],
   "source": []
  },
  {
   "cell_type": "code",
   "execution_count": null,
   "id": "7a368fa6",
   "metadata": {},
   "outputs": [],
   "source": []
  },
  {
   "cell_type": "code",
   "execution_count": 85,
   "id": "f33478be",
   "metadata": {},
   "outputs": [],
   "source": [
    "import keras_tuner as kt"
   ]
  },
  {
   "cell_type": "code",
   "execution_count": 42,
   "id": "b07f9deb",
   "metadata": {},
   "outputs": [],
   "source": [
    "def build_model(hp):\n",
    "    model = keras.Sequential()\n",
    "    model.add(keras.layers.Dense(\n",
    "      hp.Choice('units', [20,30, 60]),\n",
    "      activation='relu'))\n",
    "    model.add(keras.layers.Dense(10, activation='sigmoid'))\n",
    "    model.compile(loss='mse')\n",
    "    return model\n"
   ]
  },
  {
   "cell_type": "code",
   "execution_count": 43,
   "id": "e5d132aa",
   "metadata": {},
   "outputs": [],
   "source": [
    "tuner = kt.RandomSearch(\n",
    "    build_model,\n",
    "    objective='val_loss',\n",
    "    max_trials=5)\n"
   ]
  },
  {
   "cell_type": "code",
   "execution_count": 45,
   "id": "b67e87c1",
   "metadata": {},
   "outputs": [
    {
     "name": "stdout",
     "output_type": "stream",
     "text": [
      "Trial 3 Complete [00h 00m 29s]\n",
      "val_loss: 20.4133243560791\n",
      "\n",
      "Best val_loss So Far: 20.409900665283203\n",
      "Total elapsed time: 00h 01m 37s\n",
      "INFO:tensorflow:Oracle triggered exit\n"
     ]
    }
   ],
   "source": [
    "tuner.search(X_train, y_train, epochs=5, validation_data=(X_test, y_test_cat))\n",
    "best_model = tuner.get_best_models()[0]\n"
   ]
  },
  {
   "cell_type": "code",
   "execution_count": null,
   "id": "c3a86eb2",
   "metadata": {},
   "outputs": [],
   "source": []
  },
  {
   "cell_type": "code",
   "execution_count": null,
   "id": "12ffb9c1",
   "metadata": {},
   "outputs": [],
   "source": []
  },
  {
   "cell_type": "code",
   "execution_count": null,
   "id": "cc84ee02",
   "metadata": {},
   "outputs": [],
   "source": []
  },
  {
   "cell_type": "code",
   "execution_count": null,
   "id": "b253253d",
   "metadata": {},
   "outputs": [],
   "source": [
    "\"\"\"CNN\"\"\""
   ]
  },
  {
   "cell_type": "code",
   "execution_count": 44,
   "id": "31f4203b",
   "metadata": {},
   "outputs": [],
   "source": [
    "from functools import partial\n",
    "\n",
    "DefaultConv2D = partial(keras.layers.Conv2D,\n",
    "                        kernel_size=3, activation='relu', padding=\"SAME\")\n",
    "\n",
    "model = keras.models.Sequential([\n",
    "    DefaultConv2D(filters=32, kernel_size=3, input_shape=[32, 32, 1]),\n",
    "    keras.layers.MaxPooling2D(pool_size=2),\n",
    "    DefaultConv2D(filters=64),\n",
    "    keras.layers.MaxPooling2D(pool_size=2),\n",
    "    DefaultConv2D(filters=128),\n",
    "    keras.layers.MaxPooling2D(pool_size=2),\n",
    "    keras.layers.Flatten(),\n",
    "    keras.layers.Dense(units=128, activation='relu'),\n",
    "    keras.layers.Dropout(0.5),\n",
    "    keras.layers.Dense(units=10, activation='softmax'),\n",
    "])"
   ]
  },
  {
   "cell_type": "code",
   "execution_count": null,
   "id": "db4bdd86",
   "metadata": {},
   "outputs": [],
   "source": [
    "X_train=X_train.reshape(60000,32,32)"
   ]
  },
  {
   "cell_type": "code",
   "execution_count": 69,
   "id": "12b31d2d",
   "metadata": {},
   "outputs": [
    {
     "data": {
      "text/plain": [
       "(60000, 32, 32)"
      ]
     },
     "execution_count": 69,
     "metadata": {},
     "output_type": "execute_result"
    }
   ],
   "source": [
    "X_train.shape"
   ]
  },
  {
   "cell_type": "code",
   "execution_count": 70,
   "id": "ec1bbdb0",
   "metadata": {},
   "outputs": [
    {
     "data": {
      "text/plain": [
       "(60000,)"
      ]
     },
     "execution_count": 70,
     "metadata": {},
     "output_type": "execute_result"
    }
   ],
   "source": [
    "y_train.shape"
   ]
  },
  {
   "cell_type": "code",
   "execution_count": 75,
   "id": "52950efd",
   "metadata": {},
   "outputs": [
    {
     "name": "stdout",
     "output_type": "stream",
     "text": [
      "Epoch 1/3\n",
      "858/858 [==============================] - 98s 112ms/step - loss: 0.0319 - accuracy: 0.9909\n",
      "Epoch 2/3\n",
      "858/858 [==============================] - 87s 102ms/step - loss: 0.0190 - accuracy: 0.9944\n",
      "Epoch 3/3\n",
      "858/858 [==============================] - 98s 115ms/step - loss: 0.0127 - accuracy: 0.9962\n"
     ]
    },
    {
     "ename": "ValueError",
     "evalue": "in user code:\n\n    File \"/home/sara/Documents/python/mlvenv/lib/python3.9/site-packages/keras/engine/training.py\", line 1557, in test_function  *\n        return step_function(self, iterator)\n    File \"/home/sara/Documents/python/mlvenv/lib/python3.9/site-packages/keras/engine/training.py\", line 1546, in step_function  **\n        outputs = model.distribute_strategy.run(run_step, args=(data,))\n    File \"/home/sara/Documents/python/mlvenv/lib/python3.9/site-packages/keras/engine/training.py\", line 1535, in run_step  **\n        outputs = model.test_step(data)\n    File \"/home/sara/Documents/python/mlvenv/lib/python3.9/site-packages/keras/engine/training.py\", line 1499, in test_step\n        y_pred = self(x, training=False)\n    File \"/home/sara/Documents/python/mlvenv/lib/python3.9/site-packages/keras/utils/traceback_utils.py\", line 67, in error_handler\n        raise e.with_traceback(filtered_tb) from None\n    File \"/home/sara/Documents/python/mlvenv/lib/python3.9/site-packages/keras/engine/input_spec.py\", line 264, in assert_input_compatibility\n        raise ValueError(f'Input {input_index} of layer \"{layer_name}\" is '\n\n    ValueError: Input 0 of layer \"sequential_7\" is incompatible with the layer: expected shape=(None, 32, 32, 1), found shape=(32, 1024)\n",
     "output_type": "error",
     "traceback": [
      "\u001b[0;31m---------------------------------------------------------------------------\u001b[0m",
      "\u001b[0;31mValueError\u001b[0m                                Traceback (most recent call last)",
      "Input \u001b[0;32mIn [75]\u001b[0m, in \u001b[0;36m<cell line: 3>\u001b[0;34m()\u001b[0m\n\u001b[1;32m      1\u001b[0m model\u001b[38;5;241m.\u001b[39mcompile(loss\u001b[38;5;241m=\u001b[39m\u001b[38;5;124m\"\u001b[39m\u001b[38;5;124msparse_categorical_crossentropy\u001b[39m\u001b[38;5;124m\"\u001b[39m, optimizer\u001b[38;5;241m=\u001b[39m\u001b[38;5;124m\"\u001b[39m\u001b[38;5;124madam\u001b[39m\u001b[38;5;124m\"\u001b[39m, metrics\u001b[38;5;241m=\u001b[39m[\u001b[38;5;124m\"\u001b[39m\u001b[38;5;124maccuracy\u001b[39m\u001b[38;5;124m\"\u001b[39m])\n\u001b[1;32m      2\u001b[0m history \u001b[38;5;241m=\u001b[39m model\u001b[38;5;241m.\u001b[39mfit(X_train, y_train, epochs\u001b[38;5;241m=\u001b[39m\u001b[38;5;241m3\u001b[39m,batch_size\u001b[38;5;241m=\u001b[39m\u001b[38;5;241m70\u001b[39m)\n\u001b[0;32m----> 3\u001b[0m score \u001b[38;5;241m=\u001b[39m \u001b[43mmodel\u001b[49m\u001b[38;5;241;43m.\u001b[39;49m\u001b[43mevaluate\u001b[49m\u001b[43m(\u001b[49m\u001b[43mX_test\u001b[49m\u001b[43m,\u001b[49m\u001b[43m \u001b[49m\u001b[43my_test\u001b[49m\u001b[43m)\u001b[49m\n",
      "File \u001b[0;32m~/Documents/python/mlvenv/lib/python3.9/site-packages/keras/utils/traceback_utils.py:67\u001b[0m, in \u001b[0;36mfilter_traceback.<locals>.error_handler\u001b[0;34m(*args, **kwargs)\u001b[0m\n\u001b[1;32m     65\u001b[0m \u001b[38;5;28;01mexcept\u001b[39;00m \u001b[38;5;167;01mException\u001b[39;00m \u001b[38;5;28;01mas\u001b[39;00m e:  \u001b[38;5;66;03m# pylint: disable=broad-except\u001b[39;00m\n\u001b[1;32m     66\u001b[0m   filtered_tb \u001b[38;5;241m=\u001b[39m _process_traceback_frames(e\u001b[38;5;241m.\u001b[39m__traceback__)\n\u001b[0;32m---> 67\u001b[0m   \u001b[38;5;28;01mraise\u001b[39;00m e\u001b[38;5;241m.\u001b[39mwith_traceback(filtered_tb) \u001b[38;5;28;01mfrom\u001b[39;00m \u001b[38;5;28mNone\u001b[39m\n\u001b[1;32m     68\u001b[0m \u001b[38;5;28;01mfinally\u001b[39;00m:\n\u001b[1;32m     69\u001b[0m   \u001b[38;5;28;01mdel\u001b[39;00m filtered_tb\n",
      "File \u001b[0;32m/tmp/__autograph_generated_file5t21yrlv.py:15\u001b[0m, in \u001b[0;36mouter_factory.<locals>.inner_factory.<locals>.tf__test_function\u001b[0;34m(iterator)\u001b[0m\n\u001b[1;32m     13\u001b[0m \u001b[38;5;28;01mtry\u001b[39;00m:\n\u001b[1;32m     14\u001b[0m     do_return \u001b[38;5;241m=\u001b[39m \u001b[38;5;28;01mTrue\u001b[39;00m\n\u001b[0;32m---> 15\u001b[0m     retval_ \u001b[38;5;241m=\u001b[39m ag__\u001b[38;5;241m.\u001b[39mconverted_call(ag__\u001b[38;5;241m.\u001b[39mld(step_function), (ag__\u001b[38;5;241m.\u001b[39mld(\u001b[38;5;28mself\u001b[39m), ag__\u001b[38;5;241m.\u001b[39mld(iterator)), \u001b[38;5;28;01mNone\u001b[39;00m, fscope)\n\u001b[1;32m     16\u001b[0m \u001b[38;5;28;01mexcept\u001b[39;00m:\n\u001b[1;32m     17\u001b[0m     do_return \u001b[38;5;241m=\u001b[39m \u001b[38;5;28;01mFalse\u001b[39;00m\n",
      "\u001b[0;31mValueError\u001b[0m: in user code:\n\n    File \"/home/sara/Documents/python/mlvenv/lib/python3.9/site-packages/keras/engine/training.py\", line 1557, in test_function  *\n        return step_function(self, iterator)\n    File \"/home/sara/Documents/python/mlvenv/lib/python3.9/site-packages/keras/engine/training.py\", line 1546, in step_function  **\n        outputs = model.distribute_strategy.run(run_step, args=(data,))\n    File \"/home/sara/Documents/python/mlvenv/lib/python3.9/site-packages/keras/engine/training.py\", line 1535, in run_step  **\n        outputs = model.test_step(data)\n    File \"/home/sara/Documents/python/mlvenv/lib/python3.9/site-packages/keras/engine/training.py\", line 1499, in test_step\n        y_pred = self(x, training=False)\n    File \"/home/sara/Documents/python/mlvenv/lib/python3.9/site-packages/keras/utils/traceback_utils.py\", line 67, in error_handler\n        raise e.with_traceback(filtered_tb) from None\n    File \"/home/sara/Documents/python/mlvenv/lib/python3.9/site-packages/keras/engine/input_spec.py\", line 264, in assert_input_compatibility\n        raise ValueError(f'Input {input_index} of layer \"{layer_name}\" is '\n\n    ValueError: Input 0 of layer \"sequential_7\" is incompatible with the layer: expected shape=(None, 32, 32, 1), found shape=(32, 1024)\n"
     ]
    }
   ],
   "source": [
    "model.compile(loss=\"sparse_categorical_crossentropy\", optimizer=\"adam\", metrics=[\"accuracy\"])\n",
    "history = model.fit(X_train, y_train, epochs=3,batch_size=70)\n",
    "# score = model.evaluate(X_test, y_test)\n"
   ]
  },
  {
   "cell_type": "code",
   "execution_count": 76,
   "id": "8d717ada",
   "metadata": {},
   "outputs": [
    {
     "data": {
      "text/plain": [
       "(20000, 1024)"
      ]
     },
     "execution_count": 76,
     "metadata": {},
     "output_type": "execute_result"
    }
   ],
   "source": [
    "X_test.shape"
   ]
  },
  {
   "cell_type": "code",
   "execution_count": 77,
   "id": "4aff5c52",
   "metadata": {},
   "outputs": [],
   "source": [
    "X_test=X_test.reshape(20000,32,32)"
   ]
  },
  {
   "cell_type": "code",
   "execution_count": 78,
   "id": "cb8c7800",
   "metadata": {},
   "outputs": [
    {
     "data": {
      "text/plain": [
       "(20000,)"
      ]
     },
     "execution_count": 78,
     "metadata": {},
     "output_type": "execute_result"
    }
   ],
   "source": [
    "y_test.shape"
   ]
  },
  {
   "cell_type": "code",
   "execution_count": 79,
   "id": "66730984",
   "metadata": {},
   "outputs": [
    {
     "name": "stdout",
     "output_type": "stream",
     "text": [
      "625/625 [==============================] - 11s 15ms/step - loss: 0.0383 - accuracy: 0.9895\n"
     ]
    }
   ],
   "source": [
    "score = model.evaluate(X_test, y_test)"
   ]
  },
  {
   "cell_type": "code",
   "execution_count": null,
   "id": "b5cb25b2",
   "metadata": {},
   "outputs": [],
   "source": []
  },
  {
   "cell_type": "code",
   "execution_count": null,
   "id": "6054ce80",
   "metadata": {},
   "outputs": [],
   "source": [
    "\"\"\"sub class API with CNN\"\"\""
   ]
  },
  {
   "cell_type": "code",
   "execution_count": null,
   "id": "7939aafa",
   "metadata": {},
   "outputs": [],
   "source": []
  },
  {
   "cell_type": "code",
   "execution_count": 90,
   "id": "4e729f81",
   "metadata": {},
   "outputs": [],
   "source": [
    "from kerastuner import HyperModel\n",
    "from tensorflow import keras\n",
    "from tensorflow.keras.layers import (\n",
    "    Conv2D,\n",
    "    Dense,\n",
    "    Dropout,\n",
    "    Flatten,\n",
    "    MaxPooling2D\n",
    ")\n",
    "\n",
    "class CNNHyperModel(HyperModel):\n",
    "    def __init__(self, input_shape, num_classes):\n",
    "        self.input_shape = input_shape\n",
    "        self.num_classes = num_classes\n",
    "\n",
    "    def build(self, hp):\n",
    "        model = keras.Sequential()\n",
    "        model.add(Conv2D(filters=16,kernel_size=3,activation='relu',input_shape=self.input_shape))\n",
    "                \n",
    "        model.add(Conv2D(filters=16,kernel_size=3,activation='relu'))\n",
    "      \n",
    "        model.add(MaxPooling2D(pool_size=2))\n",
    "        model.add(Dropout(rate=hp.Float('dropout_1',min_value=0.0,max_value=0.5,default=0.25,step=0.05)))\n",
    "    \n",
    "        model.add(Conv2D(filters=32,kernel_size=3,activation='relu'))\n",
    "       \n",
    "\n",
    "        model.add(Flatten())\n",
    "        model.add(Dense(units=hp.Int('units',min_value=32,max_value=512,step=32,default=128),activation=hp.Choice(\n",
    "                    'dense_activation',values=['relu',  'sigmoid'],default='relu')))\n",
    "  \n",
    "        model.add(Dense(self.num_classes, activation='softmax'))\n",
    "\n",
    "        model.compile(optimizer=keras.optimizers.Adam(hp.Float('learning_rate',min_value=1e-4,max_value=1e-2,sampling='LOG',\n",
    "                    default=1e-3)),loss='sparse_categorical_crossentropy',\n",
    "            metrics=['accuracy'])\n",
    "        return model\n",
    "\n",
    "hypermodel = CNNHyperModel(input_shape=(32,32,1), num_classes=10)"
   ]
  },
  {
   "cell_type": "code",
   "execution_count": 91,
   "id": "6a479240",
   "metadata": {},
   "outputs": [],
   "source": [
    "\n",
    "tuner = kt.RandomSearch(\n",
    "    hypermodel,\n",
    "    objective='val_accuracy',\n",
    "    max_trials=5,\n",
    "    directory='random_search',\n",
    "    project_name='persain_handwritting'\n",
    ")"
   ]
  },
  {
   "cell_type": "code",
   "execution_count": 92,
   "id": "dca0c490",
   "metadata": {},
   "outputs": [
    {
     "name": "stdout",
     "output_type": "stream",
     "text": [
      "Trial 5 Complete [00h 03m 34s]\n",
      "val_accuracy: 0.9770500063896179\n",
      "\n",
      "Best val_accuracy So Far: 0.9879999756813049\n",
      "Total elapsed time: 00h 20m 43s\n",
      "INFO:tensorflow:Oracle triggered exit\n"
     ]
    }
   ],
   "source": [
    "tuner.search(X_train, y_train, epochs=3, validation_data=(X_test, y_test))\n",
    "best_model = tuner.get_best_models()[0]"
   ]
  },
  {
   "cell_type": "code",
   "execution_count": 106,
   "id": "af51648c",
   "metadata": {},
   "outputs": [
    {
     "data": {
      "text/plain": [
       "[<keras_tuner.engine.hyperparameters.HyperParameters at 0x7ff57340c610>]"
      ]
     },
     "execution_count": 106,
     "metadata": {},
     "output_type": "execute_result"
    }
   ],
   "source": [
    "tuner.get_best_hyperparameters()"
   ]
  },
  {
   "cell_type": "code",
   "execution_count": 111,
   "id": "4d4858c7",
   "metadata": {},
   "outputs": [
    {
     "name": "stdout",
     "output_type": "stream",
     "text": [
      "Results summary\n",
      "Results in random_search/persain_handwritting\n",
      "Showing 10 best trials\n",
      "<keras_tuner.engine.objective.Objective object at 0x7ff5502149d0>\n",
      "Trial summary\n",
      "Hyperparameters:\n",
      "dropout_1: 0.30000000000000004\n",
      "units: 352\n",
      "dense_activation: relu\n",
      "learning_rate: 0.0015717490429428354\n",
      "Score: 0.9879999756813049\n",
      "Trial summary\n",
      "Hyperparameters:\n",
      "dropout_1: 0.2\n",
      "units: 128\n",
      "dense_activation: relu\n",
      "learning_rate: 0.002009550623626266\n",
      "Score: 0.9863499999046326\n",
      "Trial summary\n",
      "Hyperparameters:\n",
      "dropout_1: 0.2\n",
      "units: 160\n",
      "dense_activation: sigmoid\n",
      "learning_rate: 0.0024271328536722074\n",
      "Score: 0.9833499789237976\n",
      "Trial summary\n",
      "Hyperparameters:\n",
      "dropout_1: 0.05\n",
      "units: 64\n",
      "dense_activation: relu\n",
      "learning_rate: 0.00010965584978946162\n",
      "Score: 0.982200026512146\n",
      "Trial summary\n",
      "Hyperparameters:\n",
      "dropout_1: 0.4\n",
      "units: 96\n",
      "dense_activation: relu\n",
      "learning_rate: 0.009115992223276017\n",
      "Score: 0.9770500063896179\n"
     ]
    }
   ],
   "source": [
    "\n",
    "summary = tuner.results_summary()"
   ]
  },
  {
   "cell_type": "code",
   "execution_count": null,
   "id": "a1a7a567",
   "metadata": {},
   "outputs": [],
   "source": []
  },
  {
   "cell_type": "code",
   "execution_count": null,
   "id": "fe83c009",
   "metadata": {},
   "outputs": [],
   "source": []
  }
 ],
 "metadata": {
  "colab": {
   "collapsed_sections": [],
   "name": "Recognizer.ipynb",
   "provenance": []
  },
  "kernelspec": {
   "display_name": "Python 3 (ipykernel)",
   "language": "python",
   "name": "python3"
  },
  "language_info": {
   "codemirror_mode": {
    "name": "ipython",
    "version": 3
   },
   "file_extension": ".py",
   "mimetype": "text/x-python",
   "name": "python",
   "nbconvert_exporter": "python",
   "pygments_lexer": "ipython3",
   "version": "3.9.7"
  }
 },
 "nbformat": 4,
 "nbformat_minor": 5
}
